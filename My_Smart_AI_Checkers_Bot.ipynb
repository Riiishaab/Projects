{
  "nbformat": 4,
  "nbformat_minor": 0,
  "metadata": {
    "colab": {
      "provenance": [],
      "authorship_tag": "ABX9TyNZrc7KmfsN76OPjuDEsSI9",
      "include_colab_link": true
    },
    "kernelspec": {
      "name": "python3",
      "display_name": "Python 3"
    },
    "language_info": {
      "name": "python"
    },
  },
  "cells": [
    {
      "cell_type": "markdown",
      "metadata": {
        "id": "view-in-github",
        "colab_type": "text"
      },
      "source": [
        "<a href=\"https://colab.research.google.com/github/Riiishaab/Projects/blob/main/My_Smart_AI_Checkers_Bot.ipynb\" target=\"_parent\"><img src=\"https://colab.research.google.com/assets/colab-badge.svg\" alt=\"Open In Colab\"/></a>"
      ]
    },
    {
      "cell_type": "markdown",
      "source": [
        "# Import necessary libraries"
      ],
      "metadata": {
        "id": "5vRwIuFr4e03"
      }
    },
    {
      "cell_type": "code",
      "source": [
        "import random\n",
        "from copy import deepcopy\n",
        "import time\n",
        "from IPython.display import display, HTML, Javascript\n",
        "from ipywidgets import Output\n"
      ],
      "metadata": {
        "id": "Aqf2fuuY4boC"
      },
      "execution_count": null,
      "outputs": []
    },
    {
      "cell_type": "markdown",
      "source": [
        "# Define Constant and Pop Up Functions"
      ],
      "metadata": {
        "id": "R04arHV14ls_"
      }
    },
    {
      "cell_type": "code",
      "source": [
        "# Define player colors\n",
        "PLAYER1 = \"#FF0000\"  # Red\n",
        "PLAYER2 = \"#0000FF\"  # Blue\n",
        "\n",
        "# Create popup functionality for game notifications\n",
        "notify_output = Output()\n",
        "display(notify_output)\n",
        "\n",
        "def popup(message):\n",
        "    \"\"\"Display a popup message in the notebook\"\"\"\n",
        "    with notify_output:\n",
        "        display(Javascript(f\"\"\"\n",
        "            alert(\"{message}\");\n",
        "        \"\"\"))\n"
      ],
      "metadata": {
        "colab": {
          "base_uri": "https://localhost:8080/",
          "height": 17,
          "referenced_widgets": [
            "c16f78b506644688a671b7424754c2bb",
            "49ce3cabb4224fc3a0a6c80434fa9825"
          ]
        },
        "id": "ujx6VkFR4lBe",
        "outputId": "35693bdf-c7f6-4949-8afa-842b5a56ae73"
      },
      "execution_count": null,
      "outputs": [
        {
          "output_type": "display_data",
          "data": {
            "text/plain": [
              "Output()"
            ],
            "application/vnd.jupyter.widget-view+json": {
              "version_major": 2,
              "version_minor": 0,
              "model_id": "c16f78b506644688a671b7424754c2bb"
            }
          },
          "metadata": {}
        }
      ]
    },
    {
      "cell_type": "markdown",
      "source": [
        "# Define Game Pieces and Board Structures"
      ],
      "metadata": {
        "id": "yiLoYiLg4sr5"
      }
    },
    {
      "cell_type": "code",
      "source": [
        "# Define the Piece class to represent checkers pieces\n",
        "class Piece:\n",
        "    def __init__(self, color, king=False):\n",
        "        self.color = color  # Color of the piece\n",
        "        self.king = king    # Whether the piece is a king\n",
        "\n",
        "# Define the Square class to represent board squares\n",
        "class Square:\n",
        "    def __init__(self, piece=None):\n",
        "        self.squarePiece = piece  # Piece on this square (or None)\n",
        "\n",
        "# Define the Board class to represent the game board\n",
        "class Board:\n",
        "    def __init__(self):\n",
        "        # Create an 8x8 grid of empty squares\n",
        "        self.grid = [[Square() for _ in range(8)] for _ in range(8)]\n",
        "        self.setup_board()\n",
        "\n",
        "    def setup_board(self):\n",
        "        \"\"\"Set up the initial board with pieces in their starting positions\"\"\"\n",
        "        # Place red pieces in the top three rows\n",
        "        for row in range(3):\n",
        "            for col in range(8):\n",
        "                if (row + col) % 2 != 0:  # Only place on dark squares\n",
        "                    self.grid[row][col] = Square(Piece(PLAYER1))\n",
        "\n",
        "        # Place blue pieces in the bottom three rows\n",
        "        for row in range(5, 8):\n",
        "            for col in range(8):\n",
        "                if (row + col) % 2 != 0:  # Only place on dark squares\n",
        "                    self.grid[row][col] = Square(Piece(PLAYER2))\n",
        "\n",
        "    def getSquare(self, x, y):\n",
        "        \"\"\"Get the square at the given coordinates\"\"\"\n",
        "        if 0 <= x < 8 and 0 <= y < 8:\n",
        "            return self.grid[y][x]\n",
        "        return None\n",
        "\n",
        "    def get_valid_legal_moves(self, x, y, continue_playing):\n",
        "        \"\"\"Get all valid moves for the piece at the given coordinates\"\"\"\n",
        "        piece = self.getSquare(x, y).squarePiece\n",
        "        if not piece:\n",
        "            return []\n",
        "\n",
        "        moves = []\n",
        "        # Define movement directions based on piece color\n",
        "        directions = [(1, 1), (-1, 1)] if piece.color == PLAYER1 else [(1, -1), (-1, -1)]\n",
        "        # Kings can move in all four diagonal directions\n",
        "        if piece.king:\n",
        "            directions += [(1, -1), (-1, -1)] if piece.color == PLAYER1 else [(1, 1), (-1, 1)]\n",
        "\n",
        "        # Check each direction for valid moves\n",
        "        for dx, dy in directions:\n",
        "            new_x, new_y = x + dx, y + dy\n",
        "            if 0 <= new_x < 8 and 0 <= new_y < 8:\n",
        "                # Check for simple move to empty square\n",
        "                if not self.getSquare(new_x, new_y).squarePiece:\n",
        "                    moves.append((new_x, new_y))\n",
        "                # Check for jump over opponent's piece\n",
        "                elif self.getSquare(new_x, new_y).squarePiece.color != piece.color:\n",
        "                    jump_x, jump_y = new_x + dx, new_y + dy\n",
        "                    if 0 <= jump_x < 8 and 0 <= jump_y < 8 and not self.getSquare(jump_x, jump_y).squarePiece:\n",
        "                        moves.append((jump_x, jump_y))\n",
        "\n",
        "        return moves\n"
      ],
      "metadata": {
        "id": "Gpyzb5YX4rPs"
      },
      "execution_count": null,
      "outputs": []
    },
    {
      "cell_type": "markdown",
      "source": [
        "# Define Board Printing Functions"
      ],
      "metadata": {
        "id": "CIgCMeN640Tm"
      }
    },
    {
      "cell_type": "code",
      "source": [
        "# Function to display the board with colored pieces\n",
        "def print_board(board):\n",
        "    \"\"\"Display the board with colored pieces using HTML\"\"\"\n",
        "    output = \"\"\n",
        "    for row in board.grid:\n",
        "        line = []\n",
        "        for square in row:\n",
        "            if square.squarePiece:\n",
        "                if square.squarePiece.color == PLAYER1:\n",
        "                    line.append('<span style=\"color:red\">R</span>')\n",
        "                else:\n",
        "                    line.append('<span style=\"color:blue\">B</span>')\n",
        "            else:\n",
        "                line.append('.')\n",
        "        output += \" \".join(line) + \"<br>\"\n",
        "    display(HTML(output))\n"
      ],
      "metadata": {
        "id": "PH7lAjyy4zRZ"
      },
      "execution_count": null,
      "outputs": []
    },
    {
      "cell_type": "markdown",
      "source": [
        "# Define Game Class"
      ],
      "metadata": {
        "id": "8ypIdQvt47E-"
      }
    },
    {
      "cell_type": "code",
      "source": [
        "# Define the Game class to manage game state\n",
        "class Game:\n",
        "    def __init__(self):\n",
        "        self.board = Board()\n",
        "        self.current_turn = PLAYER1  # Red starts\n",
        "        self.continue_playing = False\n",
        "        self.move_count = 0\n",
        "\n",
        "    def end_turn(self):\n",
        "        \"\"\"End the current turn and switch to the other player\"\"\"\n",
        "        self.current_turn = PLAYER2 if self.current_turn == PLAYER1 else PLAYER1\n",
        "        self.move_count += 1\n",
        "\n",
        "    def is_game_over(self):\n",
        "        \"\"\"Check if the game is over\"\"\"\n",
        "        # Game ends after 100 moves or if a player has no pieces left\n",
        "        return self.move_count >= 100 or not self.get_player_pieces(PLAYER1) or not self.get_player_pieces(PLAYER2)\n",
        "\n",
        "    def get_player_pieces(self, color):\n",
        "        \"\"\"Get all pieces of the given color\"\"\"\n",
        "        pieces = []\n",
        "        for y in range(8):\n",
        "            for x in range(8):\n",
        "                piece = self.board.getSquare(x, y).squarePiece\n",
        "                if piece and piece.color == color:\n",
        "                    pieces.append((x, y))\n",
        "        return pieces\n",
        "\n",
        "    def get_winner(self):\n",
        "        \"\"\"Determine the winner of the game\"\"\"\n",
        "        if self.move_count >= 100:\n",
        "            return \"Draw - Move limit reached\"\n",
        "        p1_pieces = len(self.get_player_pieces(PLAYER1))\n",
        "        p2_pieces = len(self.get_player_pieces(PLAYER2))\n",
        "        if p1_pieces > p2_pieces:\n",
        "            return \"Smart AI (Red) wins!\"\n",
        "        elif p2_pieces > p1_pieces:\n",
        "            return \"Random AI (Blue) wins!\"\n",
        "        return \"Draw!\"\n"
      ],
      "metadata": {
        "id": "kW2RBjeb46F_"
      },
      "execution_count": null,
      "outputs": []
    },
    {
      "cell_type": "markdown",
      "source": [
        "# My Smart AI Code"
      ],
      "metadata": {
        "id": "Kc5uOi63669W"
      }
    },
    {
      "cell_type": "code",
      "source": [
        "# Define the Smart AI player using minimax algorithm\n",
        "class SmartAI:\n",
        "    def __init__(self, color, game):\n",
        "        self.color = color\n",
        "        self.game = game\n",
        "        self.opponent_color = PLAYER2 if color == PLAYER1 else PLAYER1\n",
        "\n",
        "    def get_move(self, board):\n",
        "        \"\"\"Get the best move for the AI using minimax algorithm\"\"\"\n",
        "        start_time = time.time()\n",
        "        best_score = float('-inf')\n",
        "        best_move = None\n",
        "        pieces = self.game.get_player_pieces(self.color)\n",
        "\n",
        "        # Evaluate each possible move\n",
        "        for x, y in pieces:\n",
        "            moves = board.get_valid_legal_moves(x, y, False)\n",
        "            for move in moves:\n",
        "                new_board = deepcopy(board)\n",
        "                self._make_move(new_board, (x, y), move)\n",
        "                # Use minimax to evaluate the move\n",
        "                score = self._minimax(new_board, 3, False, float('-inf'), float('inf'))\n",
        "                if score > best_score:\n",
        "                    best_score = score\n",
        "                    best_move = ((x, y), move)\n",
        "\n",
        "        return best_move\n",
        "\n",
        "    def _minimax(self, board, depth, maximizing, alpha, beta):\n",
        "        \"\"\"Minimax algorithm with alpha-beta pruning\"\"\"\n",
        "        if depth == 0:\n",
        "            return self._evaluate_board(board)\n",
        "\n",
        "        if maximizing:\n",
        "            max_eval = float('-inf')\n",
        "            pieces = self.game.get_player_pieces(self.color)\n",
        "            for x, y in pieces:\n",
        "                moves = board.get_valid_legal_moves(x, y, False)\n",
        "                for move in moves:\n",
        "                    new_board = deepcopy(board)\n",
        "                    self._make_move(new_board, (x, y), move)\n",
        "                    eval = self._minimax(new_board, depth - 1, False, alpha, beta)\n",
        "                    max_eval = max(max_eval, eval)\n",
        "                    alpha = max(alpha, eval)\n",
        "                    if beta <= alpha:\n",
        "                        break  # Alpha-beta pruning\n",
        "            return max_eval\n",
        "        else:\n",
        "            min_eval = float('inf')\n",
        "            pieces = self.game.get_player_pieces(self.opponent_color)\n",
        "            for x, y in pieces:\n",
        "                moves = board.get_valid_legal_moves(x, y, False)\n",
        "                for move in moves:\n",
        "                    new_board = deepcopy(board)\n",
        "                    self._make_move(new_board, (x, y), move)\n",
        "                    eval = self._minimax(new_board, depth - 1, True, alpha, beta)\n",
        "                    min_eval = min(min_eval, eval)\n",
        "                    beta = min(beta, eval)\n",
        "                    if beta <= alpha:\n",
        "                        break  # Alpha-beta pruning\n",
        "            return min_eval\n",
        "\n",
        "    def _evaluate_board(self, board):\n",
        "        \"\"\"Evaluate the board position for the AI\"\"\"\n",
        "        score = 0\n",
        "        for y in range(8):\n",
        "            for x in range(8):\n",
        "                piece = board.getSquare(x, y).squarePiece\n",
        "                if piece:\n",
        "                    # Kings are worth more than regular pieces\n",
        "                    value = 1 + (piece.king * 0.5)\n",
        "                    if piece.color == self.color:\n",
        "                        score += value\n",
        "                    else:\n",
        "                        score -= value\n",
        "        return score\n",
        "\n",
        "    def _make_move(self, board, from_pos, to_pos):\n",
        "        \"\"\"Make a move on the board\"\"\"\n",
        "        fx, fy = from_pos\n",
        "        tx, ty = to_pos\n",
        "        piece = board.getSquare(fx, fy).squarePiece\n",
        "        board.getSquare(fx, fy).squarePiece = None\n",
        "        board.getSquare(tx, ty).squarePiece = piece\n",
        "\n",
        "        # Handle captures\n",
        "        if abs(tx - fx) == 2:  # Capture move\n",
        "            captured_x = (fx + tx) // 2\n",
        "            captured_y = (fy + ty) // 2\n",
        "            board.getSquare(captured_x, captured_y).squarePiece = None\n",
        "\n",
        "        # Handle king promotion\n",
        "        if (ty == 0 and piece.color == PLAYER2) or (ty == 7 and piece.color == PLAYER1):\n",
        "            piece.king = True\n"
      ],
      "metadata": {
        "id": "dNdDB_t_64cv"
      },
      "execution_count": null,
      "outputs": []
    },
    {
      "cell_type": "markdown",
      "source": [
        "# Main Game Loop"
      ],
      "metadata": {
        "id": "qyFRFemK7Kzm"
      }
    },
    {
      "cell_type": "code",
      "source": [
        "# Main function to run the game\n",
        "def main():\n",
        "    game = Game()\n",
        "    smart_ai = SmartAI(PLAYER1, game)  # Red player (Smart AI)\n",
        "    random_ai = RandomAI(PLAYER2, game)  # Blue player (Random AI)\n",
        "\n",
        "    # Show game start popup and header\n",
        "    popup(\"The match will be played now!\")\n",
        "    display(HTML(\"<h3>Starting AI vs AI Checkers Game</h3>\"))\n",
        "    display(HTML(\"<p><span style='color:red'>Red: Smart AI (Minimax)</span> vs <span style='color:blue'>Blue: Random AI</span></p>\"))\n",
        "    print_board(game.board)\n",
        "\n",
        "    # Main game loop\n",
        "    while not game.is_game_over():\n",
        "        # Determine current player\n",
        "        current_ai = smart_ai if game.current_turn == PLAYER1 else random_ai\n",
        "        move = current_ai.get_move(game.board)\n",
        "\n",
        "        if move:\n",
        "            from_pos, to_pos = move\n",
        "            color_text = \"red\" if game.current_turn == PLAYER1 else \"blue\"\n",
        "            player_text = \"Red\" if game.current_turn == PLAYER1 else \"Blue\"\n",
        "            display(HTML(f\"<p>Move {game.move_count + 1}: <span style='color:{color_text}'>{player_text}</span> moves from {from_pos} to {to_pos}</p>\"))\n",
        "            current_ai._make_move(game.board, from_pos, to_pos)\n",
        "            print_board(game.board)\n",
        "        else:\n",
        "            color_text = \"red\" if game.current_turn == PLAYER1 else \"blue\"\n",
        "            player_text = \"Red\" if game.current_turn == PLAYER1 else \"Blue\"\n",
        "            display(HTML(f\"<p><span style='color:{color_text}'>{player_text}</span> has no valid moves!</p>\"))\n",
        "            break\n",
        "\n",
        "        game.end_turn()\n",
        "        time.sleep(0.5)  # Add delay to make the game more viewable\n",
        "\n",
        "    # Show game over message\n",
        "    display(HTML(\"<h3>Game Over!</h3>\"))\n",
        "    popup(game.get_winner())\n",
        "    display(HTML(f\"<p>{game.get_winner()}</p>\"))\n"
      ],
      "metadata": {
        "id": "JIiJbxf57JDg"
      },
      "execution_count": null,
      "outputs": []
    },
    {
      "cell_type": "markdown",
      "source": [
        "# Opponest AI (You can add your code for Competitation)"
      ],
      "metadata": {
        "id": "_rcDCzUU6_lu"
      }
    },
    {
      "cell_type": "code",
      "source": [
        "# Define the Random AI player that makes random legal moves\n",
        "class RandomAI:\n",
        "    def __init__(self, color, game):\n",
        "        self.color = color\n",
        "        self.game = game\n",
        "\n",
        "    def get_move(self, board):\n",
        "        \"\"\"Get a random valid move for the AI\"\"\"\n",
        "        pieces = self.game.get_player_pieces(self.color)\n",
        "        random.shuffle(pieces)\n",
        "\n",
        "        # Find the first piece with valid moves\n",
        "        for x, y in pieces:\n",
        "            moves = board.get_valid_legal_moves(x, y, False)\n",
        "            if moves:\n",
        "                return ((x, y), random.choice(moves))\n",
        "        return None\n",
        "\n",
        "    def _make_move(self, board, from_pos, to_pos):\n",
        "        \"\"\"Make a move on the board\"\"\"\n",
        "        fx, fy = from_pos\n",
        "        tx, ty = to_pos\n",
        "        piece = board.getSquare(fx, fy).squarePiece\n",
        "        board.getSquare(fx, fy).squarePiece = None\n",
        "        board.getSquare(tx, ty).squarePiece = piece\n",
        "\n",
        "        # Handle captures\n",
        "        if abs(tx - fx) == 2:  # Capture move\n",
        "            captured_x = (fx + tx) // 2\n",
        "            captured_y = (fy + ty) // 2\n",
        "            board.getSquare(captured_x, captured_y).squarePiece = None\n",
        "\n",
        "        # Handle king promotion\n",
        "        if (ty == 0 and piece.color == PLAYER2) or (ty == 7 and piece.color == PLAYER1):\n",
        "            piece.king = True\n"
      ],
      "metadata": {
        "id": "oUHraAkf7Gw3"
      },
      "execution_count": null,
      "outputs": []
    },
    {
      "cell_type": "markdown",
      "source": [
        "# Run the GAME"
      ],
      "metadata": {
        "id": "KK3Q566f7Odx"
      }
    },
    {
      "cell_type": "code",
      "source": [
        "# Run the game\n",
        "if __name__ == \"__main__\":\n",
        "    main()\n"
      ],
      "metadata": {
        "colab": {
          "base_uri": "https://localhost:8080/",
          "height": 1000
        },
        "id": "8ZDZTBXb7R38",
        "outputId": "bc2196c5-8f9f-4e4c-c3c0-16785ed51da8"
      },
      "execution_count": null,
      "outputs": [
        {
          "output_type": "display_data",
          "data": {
            "text/plain": [
              "<IPython.core.display.HTML object>"
            ],
            "text/html": [
              "<h3>Starting AI vs AI Checkers Game</h3>"
            ]
          },
          "metadata": {}
        },
        {
          "output_type": "display_data",
          "data": {
            "text/plain": [
              "<IPython.core.display.HTML object>"
            ],
            "text/html": [
              "<p><span style='color:red'>Red: Smart AI (Minimax)</span> vs <span style='color:blue'>Blue: Random AI</span></p>"
            ]
          },
          "metadata": {}
        },
        {
          "output_type": "display_data",
          "data": {
            "text/plain": [
              "<IPython.core.display.HTML object>"
            ],
            "text/html": [
              ". <span style=\"color:red\">R</span> . <span style=\"color:red\">R</span> . <span style=\"color:red\">R</span> . <span style=\"color:red\">R</span><br><span style=\"color:red\">R</span> . <span style=\"color:red\">R</span> . <span style=\"color:red\">R</span> . <span style=\"color:red\">R</span> .<br>. <span style=\"color:red\">R</span> . <span style=\"color:red\">R</span> . <span style=\"color:red\">R</span> . <span style=\"color:red\">R</span><br>. . . . . . . .<br>. . . . . . . .<br><span style=\"color:blue\">B</span> . <span style=\"color:blue\">B</span> . <span style=\"color:blue\">B</span> . <span style=\"color:blue\">B</span> .<br>. <span style=\"color:blue\">B</span> . <span style=\"color:blue\">B</span> . <span style=\"color:blue\">B</span> . <span style=\"color:blue\">B</span><br><span style=\"color:blue\">B</span> . <span style=\"color:blue\">B</span> . <span style=\"color:blue\">B</span> . <span style=\"color:blue\">B</span> .<br>"
            ]
          },
          "metadata": {}
        },
        {
          "output_type": "display_data",
          "data": {
            "text/plain": [
              "<IPython.core.display.HTML object>"
            ],
            "text/html": [
              "<p>Move 1: <span style='color:red'>Red</span> moves from (1, 2) to (2, 3)</p>"
            ]
          },
          "metadata": {}
        },
        {
          "output_type": "display_data",
          "data": {
            "text/plain": [
              "<IPython.core.display.HTML object>"
            ],
            "text/html": [
              ". <span style=\"color:red\">R</span> . <span style=\"color:red\">R</span> . <span style=\"color:red\">R</span> . <span style=\"color:red\">R</span><br><span style=\"color:red\">R</span> . <span style=\"color:red\">R</span> . <span style=\"color:red\">R</span> . <span style=\"color:red\">R</span> .<br>. . . <span style=\"color:red\">R</span> . <span style=\"color:red\">R</span> . <span style=\"color:red\">R</span><br>. . <span style=\"color:red\">R</span> . . . . .<br>. . . . . . . .<br><span style=\"color:blue\">B</span> . <span style=\"color:blue\">B</span> . <span style=\"color:blue\">B</span> . <span style=\"color:blue\">B</span> .<br>. <span style=\"color:blue\">B</span> . <span style=\"color:blue\">B</span> . <span style=\"color:blue\">B</span> . <span style=\"color:blue\">B</span><br><span style=\"color:blue\">B</span> . <span style=\"color:blue\">B</span> . <span style=\"color:blue\">B</span> . <span style=\"color:blue\">B</span> .<br>"
            ]
          },
          "metadata": {}
        },
        {
          "output_type": "display_data",
          "data": {
            "text/plain": [
              "<IPython.core.display.HTML object>"
            ],
            "text/html": [
              "<p>Move 2: <span style='color:blue'>Blue</span> moves from (4, 5) to (3, 4)</p>"
            ]
          },
          "metadata": {}
        },
        {
          "output_type": "display_data",
          "data": {
            "text/plain": [
              "<IPython.core.display.HTML object>"
            ],
            "text/html": [
              ". <span style=\"color:red\">R</span> . <span style=\"color:red\">R</span> . <span style=\"color:red\">R</span> . <span style=\"color:red\">R</span><br><span style=\"color:red\">R</span> . <span style=\"color:red\">R</span> . <span style=\"color:red\">R</span> . <span style=\"color:red\">R</span> .<br>. . . <span style=\"color:red\">R</span> . <span style=\"color:red\">R</span> . <span style=\"color:red\">R</span><br>. . <span style=\"color:red\">R</span> . . . . .<br>. . . <span style=\"color:blue\">B</span> . . . .<br><span style=\"color:blue\">B</span> . <span style=\"color:blue\">B</span> . . . <span style=\"color:blue\">B</span> .<br>. <span style=\"color:blue\">B</span> . <span style=\"color:blue\">B</span> . <span style=\"color:blue\">B</span> . <span style=\"color:blue\">B</span><br><span style=\"color:blue\">B</span> . <span style=\"color:blue\">B</span> . <span style=\"color:blue\">B</span> . <span style=\"color:blue\">B</span> .<br>"
            ]
          },
          "metadata": {}
        },
        {
          "output_type": "display_data",
          "data": {
            "text/plain": [
              "<IPython.core.display.HTML object>"
            ],
            "text/html": [
              "<p>Move 3: <span style='color:red'>Red</span> moves from (0, 1) to (1, 2)</p>"
            ]
          },
          "metadata": {}
        },
        {
          "output_type": "display_data",
          "data": {
            "text/plain": [
              "<IPython.core.display.HTML object>"
            ],
            "text/html": [
              ". <span style=\"color:red\">R</span> . <span style=\"color:red\">R</span> . <span style=\"color:red\">R</span> . <span style=\"color:red\">R</span><br>. . <span style=\"color:red\">R</span> . <span style=\"color:red\">R</span> . <span style=\"color:red\">R</span> .<br>. <span style=\"color:red\">R</span> . <span style=\"color:red\">R</span> . <span style=\"color:red\">R</span> . <span style=\"color:red\">R</span><br>. . <span style=\"color:red\">R</span> . . . . .<br>. . . <span style=\"color:blue\">B</span> . . . .<br><span style=\"color:blue\">B</span> . <span style=\"color:blue\">B</span> . . . <span style=\"color:blue\">B</span> .<br>. <span style=\"color:blue\">B</span> . <span style=\"color:blue\">B</span> . <span style=\"color:blue\">B</span> . <span style=\"color:blue\">B</span><br><span style=\"color:blue\">B</span> . <span style=\"color:blue\">B</span> . <span style=\"color:blue\">B</span> . <span style=\"color:blue\">B</span> .<br>"
            ]
          },
          "metadata": {}
        },
        {
          "output_type": "display_data",
          "data": {
            "text/plain": [
              "<IPython.core.display.HTML object>"
            ],
            "text/html": [
              "<p>Move 4: <span style='color:blue'>Blue</span> moves from (3, 6) to (4, 5)</p>"
            ]
          },
          "metadata": {}
        },
        {
          "output_type": "display_data",
          "data": {
            "text/plain": [
              "<IPython.core.display.HTML object>"
            ],
            "text/html": [
              ". <span style=\"color:red\">R</span> . <span style=\"color:red\">R</span> . <span style=\"color:red\">R</span> . <span style=\"color:red\">R</span><br>. . <span style=\"color:red\">R</span> . <span style=\"color:red\">R</span> . <span style=\"color:red\">R</span> .<br>. <span style=\"color:red\">R</span> . <span style=\"color:red\">R</span> . <span style=\"color:red\">R</span> . <span style=\"color:red\">R</span><br>. . <span style=\"color:red\">R</span> . . . . .<br>. . . <span style=\"color:blue\">B</span> . . . .<br><span style=\"color:blue\">B</span> . <span style=\"color:blue\">B</span> . <span style=\"color:blue\">B</span> . <span style=\"color:blue\">B</span> .<br>. <span style=\"color:blue\">B</span> . . . <span style=\"color:blue\">B</span> . <span style=\"color:blue\">B</span><br><span style=\"color:blue\">B</span> . <span style=\"color:blue\">B</span> . <span style=\"color:blue\">B</span> . <span style=\"color:blue\">B</span> .<br>"
            ]
          },
          "metadata": {}
        },
        {
          "output_type": "display_data",
          "data": {
            "text/plain": [
              "<IPython.core.display.HTML object>"
            ],
            "text/html": [
              "<p>Move 5: <span style='color:red'>Red</span> moves from (1, 0) to (0, 1)</p>"
            ]
          },
          "metadata": {}
        },
        {
          "output_type": "display_data",
          "data": {
            "text/plain": [
              "<IPython.core.display.HTML object>"
            ],
            "text/html": [
              ". . . <span style=\"color:red\">R</span> . <span style=\"color:red\">R</span> . <span style=\"color:red\">R</span><br><span style=\"color:red\">R</span> . <span style=\"color:red\">R</span> . <span style=\"color:red\">R</span> . <span style=\"color:red\">R</span> .<br>. <span style=\"color:red\">R</span> . <span style=\"color:red\">R</span> . <span style=\"color:red\">R</span> . <span style=\"color:red\">R</span><br>. . <span style=\"color:red\">R</span> . . . . .<br>. . . <span style=\"color:blue\">B</span> . . . .<br><span style=\"color:blue\">B</span> . <span style=\"color:blue\">B</span> . <span style=\"color:blue\">B</span> . <span style=\"color:blue\">B</span> .<br>. <span style=\"color:blue\">B</span> . . . <span style=\"color:blue\">B</span> . <span style=\"color:blue\">B</span><br><span style=\"color:blue\">B</span> . <span style=\"color:blue\">B</span> . <span style=\"color:blue\">B</span> . <span style=\"color:blue\">B</span> .<br>"
            ]
          },
          "metadata": {}
        },
        {
          "output_type": "display_data",
          "data": {
            "text/plain": [
              "<IPython.core.display.HTML object>"
            ],
            "text/html": [
              "<p>Move 6: <span style='color:blue'>Blue</span> moves from (4, 5) to (5, 4)</p>"
            ]
          },
          "metadata": {}
        },
        {
          "output_type": "display_data",
          "data": {
            "text/plain": [
              "<IPython.core.display.HTML object>"
            ],
            "text/html": [
              ". . . <span style=\"color:red\">R</span> . <span style=\"color:red\">R</span> . <span style=\"color:red\">R</span><br><span style=\"color:red\">R</span> . <span style=\"color:red\">R</span> . <span style=\"color:red\">R</span> . <span style=\"color:red\">R</span> .<br>. <span style=\"color:red\">R</span> . <span style=\"color:red\">R</span> . <span style=\"color:red\">R</span> . <span style=\"color:red\">R</span><br>. . <span style=\"color:red\">R</span> . . . . .<br>. . . <span style=\"color:blue\">B</span> . <span style=\"color:blue\">B</span> . .<br><span style=\"color:blue\">B</span> . <span style=\"color:blue\">B</span> . . . <span style=\"color:blue\">B</span> .<br>. <span style=\"color:blue\">B</span> . . . <span style=\"color:blue\">B</span> . <span style=\"color:blue\">B</span><br><span style=\"color:blue\">B</span> . <span style=\"color:blue\">B</span> . <span style=\"color:blue\">B</span> . <span style=\"color:blue\">B</span> .<br>"
            ]
          },
          "metadata": {}
        },
        {
          "output_type": "display_data",
          "data": {
            "text/plain": [
              "<IPython.core.display.HTML object>"
            ],
            "text/html": [
              "<p>Move 7: <span style='color:red'>Red</span> moves from (1, 2) to (0, 3)</p>"
            ]
          },
          "metadata": {}
        },
        {
          "output_type": "display_data",
          "data": {
            "text/plain": [
              "<IPython.core.display.HTML object>"
            ],
            "text/html": [
              ". . . <span style=\"color:red\">R</span> . <span style=\"color:red\">R</span> . <span style=\"color:red\">R</span><br><span style=\"color:red\">R</span> . <span style=\"color:red\">R</span> . <span style=\"color:red\">R</span> . <span style=\"color:red\">R</span> .<br>. . . <span style=\"color:red\">R</span> . <span style=\"color:red\">R</span> . <span style=\"color:red\">R</span><br><span style=\"color:red\">R</span> . <span style=\"color:red\">R</span> . . . . .<br>. . . <span style=\"color:blue\">B</span> . <span style=\"color:blue\">B</span> . .<br><span style=\"color:blue\">B</span> . <span style=\"color:blue\">B</span> . . . <span style=\"color:blue\">B</span> .<br>. <span style=\"color:blue\">B</span> . . . <span style=\"color:blue\">B</span> . <span style=\"color:blue\">B</span><br><span style=\"color:blue\">B</span> . <span style=\"color:blue\">B</span> . <span style=\"color:blue\">B</span> . <span style=\"color:blue\">B</span> .<br>"
            ]
          },
          "metadata": {}
        },
        {
          "output_type": "display_data",
          "data": {
            "text/plain": [
              "<IPython.core.display.HTML object>"
            ],
            "text/html": [
              "<p>Move 8: <span style='color:blue'>Blue</span> moves from (4, 7) to (3, 6)</p>"
            ]
          },
          "metadata": {}
        },
        {
          "output_type": "display_data",
          "data": {
            "text/plain": [
              "<IPython.core.display.HTML object>"
            ],
            "text/html": [
              ". . . <span style=\"color:red\">R</span> . <span style=\"color:red\">R</span> . <span style=\"color:red\">R</span><br><span style=\"color:red\">R</span> . <span style=\"color:red\">R</span> . <span style=\"color:red\">R</span> . <span style=\"color:red\">R</span> .<br>. . . <span style=\"color:red\">R</span> . <span style=\"color:red\">R</span> . <span style=\"color:red\">R</span><br><span style=\"color:red\">R</span> . <span style=\"color:red\">R</span> . . . . .<br>. . . <span style=\"color:blue\">B</span> . <span style=\"color:blue\">B</span> . .<br><span style=\"color:blue\">B</span> . <span style=\"color:blue\">B</span> . . . <span style=\"color:blue\">B</span> .<br>. <span style=\"color:blue\">B</span> . <span style=\"color:blue\">B</span> . <span style=\"color:blue\">B</span> . <span style=\"color:blue\">B</span><br><span style=\"color:blue\">B</span> . <span style=\"color:blue\">B</span> . . . <span style=\"color:blue\">B</span> .<br>"
            ]
          },
          "metadata": {}
        },
        {
          "output_type": "display_data",
          "data": {
            "text/plain": [
              "<IPython.core.display.HTML object>"
            ],
            "text/html": [
              "<p>Move 9: <span style='color:red'>Red</span> moves from (0, 1) to (1, 2)</p>"
            ]
          },
          "metadata": {}
        },
        {
          "output_type": "display_data",
          "data": {
            "text/plain": [
              "<IPython.core.display.HTML object>"
            ],
            "text/html": [
              ". . . <span style=\"color:red\">R</span> . <span style=\"color:red\">R</span> . <span style=\"color:red\">R</span><br>. . <span style=\"color:red\">R</span> . <span style=\"color:red\">R</span> . <span style=\"color:red\">R</span> .<br>. <span style=\"color:red\">R</span> . <span style=\"color:red\">R</span> . <span style=\"color:red\">R</span> . <span style=\"color:red\">R</span><br><span style=\"color:red\">R</span> . <span style=\"color:red\">R</span> . . . . .<br>. . . <span style=\"color:blue\">B</span> . <span style=\"color:blue\">B</span> . .<br><span style=\"color:blue\">B</span> . <span style=\"color:blue\">B</span> . . . <span style=\"color:blue\">B</span> .<br>. <span style=\"color:blue\">B</span> . <span style=\"color:blue\">B</span> . <span style=\"color:blue\">B</span> . <span style=\"color:blue\">B</span><br><span style=\"color:blue\">B</span> . <span style=\"color:blue\">B</span> . . . <span style=\"color:blue\">B</span> .<br>"
            ]
          },
          "metadata": {}
        },
        {
          "output_type": "display_data",
          "data": {
            "text/plain": [
              "<IPython.core.display.HTML object>"
            ],
            "text/html": [
              "<p>Move 10: <span style='color:blue'>Blue</span> moves from (3, 4) to (4, 3)</p>"
            ]
          },
          "metadata": {}
        },
        {
          "output_type": "display_data",
          "data": {
            "text/plain": [
              "<IPython.core.display.HTML object>"
            ],
            "text/html": [
              ". . . <span style=\"color:red\">R</span> . <span style=\"color:red\">R</span> . <span style=\"color:red\">R</span><br>. . <span style=\"color:red\">R</span> . <span style=\"color:red\">R</span> . <span style=\"color:red\">R</span> .<br>. <span style=\"color:red\">R</span> . <span style=\"color:red\">R</span> . <span style=\"color:red\">R</span> . <span style=\"color:red\">R</span><br><span style=\"color:red\">R</span> . <span style=\"color:red\">R</span> . <span style=\"color:blue\">B</span> . . .<br>. . . . . <span style=\"color:blue\">B</span> . .<br><span style=\"color:blue\">B</span> . <span style=\"color:blue\">B</span> . . . <span style=\"color:blue\">B</span> .<br>. <span style=\"color:blue\">B</span> . <span style=\"color:blue\">B</span> . <span style=\"color:blue\">B</span> . <span style=\"color:blue\">B</span><br><span style=\"color:blue\">B</span> . <span style=\"color:blue\">B</span> . . . <span style=\"color:blue\">B</span> .<br>"
            ]
          },
          "metadata": {}
        },
        {
          "output_type": "display_data",
          "data": {
            "text/plain": [
              "<IPython.core.display.HTML object>"
            ],
            "text/html": [
              "<p>Move 11: <span style='color:red'>Red</span> moves from (5, 2) to (6, 3)</p>"
            ]
          },
          "metadata": {}
        },
        {
          "output_type": "display_data",
          "data": {
            "text/plain": [
              "<IPython.core.display.HTML object>"
            ],
            "text/html": [
              ". . . <span style=\"color:red\">R</span> . <span style=\"color:red\">R</span> . <span style=\"color:red\">R</span><br>. . <span style=\"color:red\">R</span> . <span style=\"color:red\">R</span> . <span style=\"color:red\">R</span> .<br>. <span style=\"color:red\">R</span> . <span style=\"color:red\">R</span> . . . <span style=\"color:red\">R</span><br><span style=\"color:red\">R</span> . <span style=\"color:red\">R</span> . <span style=\"color:blue\">B</span> . <span style=\"color:red\">R</span> .<br>. . . . . <span style=\"color:blue\">B</span> . .<br><span style=\"color:blue\">B</span> . <span style=\"color:blue\">B</span> . . . <span style=\"color:blue\">B</span> .<br>. <span style=\"color:blue\">B</span> . <span style=\"color:blue\">B</span> . <span style=\"color:blue\">B</span> . <span style=\"color:blue\">B</span><br><span style=\"color:blue\">B</span> . <span style=\"color:blue\">B</span> . . . <span style=\"color:blue\">B</span> .<br>"
            ]
          },
          "metadata": {}
        },
        {
          "output_type": "display_data",
          "data": {
            "text/plain": [
              "<IPython.core.display.HTML object>"
            ],
            "text/html": [
              "<p>Move 12: <span style='color:blue'>Blue</span> moves from (0, 5) to (1, 4)</p>"
            ]
          },
          "metadata": {}
        },
        {
          "output_type": "display_data",
          "data": {
            "text/plain": [
              "<IPython.core.display.HTML object>"
            ],
            "text/html": [
              ". . . <span style=\"color:red\">R</span> . <span style=\"color:red\">R</span> . <span style=\"color:red\">R</span><br>. . <span style=\"color:red\">R</span> . <span style=\"color:red\">R</span> . <span style=\"color:red\">R</span> .<br>. <span style=\"color:red\">R</span> . <span style=\"color:red\">R</span> . . . <span style=\"color:red\">R</span><br><span style=\"color:red\">R</span> . <span style=\"color:red\">R</span> . <span style=\"color:blue\">B</span> . <span style=\"color:red\">R</span> .<br>. <span style=\"color:blue\">B</span> . . . <span style=\"color:blue\">B</span> . .<br>. . <span style=\"color:blue\">B</span> . . . <span style=\"color:blue\">B</span> .<br>. <span style=\"color:blue\">B</span> . <span style=\"color:blue\">B</span> . <span style=\"color:blue\">B</span> . <span style=\"color:blue\">B</span><br><span style=\"color:blue\">B</span> . <span style=\"color:blue\">B</span> . . . <span style=\"color:blue\">B</span> .<br>"
            ]
          },
          "metadata": {}
        },
        {
          "output_type": "display_data",
          "data": {
            "text/plain": [
              "<IPython.core.display.HTML object>"
            ],
            "text/html": [
              "<p>Move 13: <span style='color:red'>Red</span> moves from (2, 3) to (0, 5)</p>"
            ]
          },
          "metadata": {}
        },
        {
          "output_type": "display_data",
          "data": {
            "text/plain": [
              "<IPython.core.display.HTML object>"
            ],
            "text/html": [
              ". . . <span style=\"color:red\">R</span> . <span style=\"color:red\">R</span> . <span style=\"color:red\">R</span><br>. . <span style=\"color:red\">R</span> . <span style=\"color:red\">R</span> . <span style=\"color:red\">R</span> .<br>. <span style=\"color:red\">R</span> . <span style=\"color:red\">R</span> . . . <span style=\"color:red\">R</span><br><span style=\"color:red\">R</span> . . . <span style=\"color:blue\">B</span> . <span style=\"color:red\">R</span> .<br>. . . . . <span style=\"color:blue\">B</span> . .<br><span style=\"color:red\">R</span> . <span style=\"color:blue\">B</span> . . . <span style=\"color:blue\">B</span> .<br>. <span style=\"color:blue\">B</span> . <span style=\"color:blue\">B</span> . <span style=\"color:blue\">B</span> . <span style=\"color:blue\">B</span><br><span style=\"color:blue\">B</span> . <span style=\"color:blue\">B</span> . . . <span style=\"color:blue\">B</span> .<br>"
            ]
          },
          "metadata": {}
        },
        {
          "output_type": "display_data",
          "data": {
            "text/plain": [
              "<IPython.core.display.HTML object>"
            ],
            "text/html": [
              "<p>Move 14: <span style='color:blue'>Blue</span> moves from (2, 5) to (1, 4)</p>"
            ]
          },
          "metadata": {}
        },
        {
          "output_type": "display_data",
          "data": {
            "text/plain": [
              "<IPython.core.display.HTML object>"
            ],
            "text/html": [
              ". . . <span style=\"color:red\">R</span> . <span style=\"color:red\">R</span> . <span style=\"color:red\">R</span><br>. . <span style=\"color:red\">R</span> . <span style=\"color:red\">R</span> . <span style=\"color:red\">R</span> .<br>. <span style=\"color:red\">R</span> . <span style=\"color:red\">R</span> . . . <span style=\"color:red\">R</span><br><span style=\"color:red\">R</span> . . . <span style=\"color:blue\">B</span> . <span style=\"color:red\">R</span> .<br>. <span style=\"color:blue\">B</span> . . . <span style=\"color:blue\">B</span> . .<br><span style=\"color:red\">R</span> . . . . . <span style=\"color:blue\">B</span> .<br>. <span style=\"color:blue\">B</span> . <span style=\"color:blue\">B</span> . <span style=\"color:blue\">B</span> . <span style=\"color:blue\">B</span><br><span style=\"color:blue\">B</span> . <span style=\"color:blue\">B</span> . . . <span style=\"color:blue\">B</span> .<br>"
            ]
          },
          "metadata": {}
        },
        {
          "output_type": "display_data",
          "data": {
            "text/plain": [
              "<IPython.core.display.HTML object>"
            ],
            "text/html": [
              "<p>Move 15: <span style='color:red'>Red</span> moves from (4, 1) to (5, 2)</p>"
            ]
          },
          "metadata": {}
        },
        {
          "output_type": "display_data",
          "data": {
            "text/plain": [
              "<IPython.core.display.HTML object>"
            ],
            "text/html": [
              ". . . <span style=\"color:red\">R</span> . <span style=\"color:red\">R</span> . <span style=\"color:red\">R</span><br>. . <span style=\"color:red\">R</span> . . . <span style=\"color:red\">R</span> .<br>. <span style=\"color:red\">R</span> . <span style=\"color:red\">R</span> . <span style=\"color:red\">R</span> . <span style=\"color:red\">R</span><br><span style=\"color:red\">R</span> . . . <span style=\"color:blue\">B</span> . <span style=\"color:red\">R</span> .<br>. <span style=\"color:blue\">B</span> . . . <span style=\"color:blue\">B</span> . .<br><span style=\"color:red\">R</span> . . . . . <span style=\"color:blue\">B</span> .<br>. <span style=\"color:blue\">B</span> . <span style=\"color:blue\">B</span> . <span style=\"color:blue\">B</span> . <span style=\"color:blue\">B</span><br><span style=\"color:blue\">B</span> . <span style=\"color:blue\">B</span> . . . <span style=\"color:blue\">B</span> .<br>"
            ]
          },
          "metadata": {}
        },
        {
          "output_type": "display_data",
          "data": {
            "text/plain": [
              "<IPython.core.display.HTML object>"
            ],
            "text/html": [
              "<p>Move 16: <span style='color:blue'>Blue</span> moves from (1, 6) to (2, 5)</p>"
            ]
          },
          "metadata": {}
        },
        {
          "output_type": "display_data",
          "data": {
            "text/plain": [
              "<IPython.core.display.HTML object>"
            ],
            "text/html": [
              ". . . <span style=\"color:red\">R</span> . <span style=\"color:red\">R</span> . <span style=\"color:red\">R</span><br>. . <span style=\"color:red\">R</span> . . . <span style=\"color:red\">R</span> .<br>. <span style=\"color:red\">R</span> . <span style=\"color:red\">R</span> . <span style=\"color:red\">R</span> . <span style=\"color:red\">R</span><br><span style=\"color:red\">R</span> . . . <span style=\"color:blue\">B</span> . <span style=\"color:red\">R</span> .<br>. <span style=\"color:blue\">B</span> . . . <span style=\"color:blue\">B</span> . .<br><span style=\"color:red\">R</span> . <span style=\"color:blue\">B</span> . . . <span style=\"color:blue\">B</span> .<br>. . . <span style=\"color:blue\">B</span> . <span style=\"color:blue\">B</span> . <span style=\"color:blue\">B</span><br><span style=\"color:blue\">B</span> . <span style=\"color:blue\">B</span> . . . <span style=\"color:blue\">B</span> .<br>"
            ]
          },
          "metadata": {}
        },
        {
          "output_type": "display_data",
          "data": {
            "text/plain": [
              "<IPython.core.display.HTML object>"
            ],
            "text/html": [
              "<p>Move 17: <span style='color:red'>Red</span> moves from (3, 0) to (4, 1)</p>"
            ]
          },
          "metadata": {}
        },
        {
          "output_type": "display_data",
          "data": {
            "text/plain": [
              "<IPython.core.display.HTML object>"
            ],
            "text/html": [
              ". . . . . <span style=\"color:red\">R</span> . <span style=\"color:red\">R</span><br>. . <span style=\"color:red\">R</span> . <span style=\"color:red\">R</span> . <span style=\"color:red\">R</span> .<br>. <span style=\"color:red\">R</span> . <span style=\"color:red\">R</span> . <span style=\"color:red\">R</span> . <span style=\"color:red\">R</span><br><span style=\"color:red\">R</span> . . . <span style=\"color:blue\">B</span> . <span style=\"color:red\">R</span> .<br>. <span style=\"color:blue\">B</span> . . . <span style=\"color:blue\">B</span> . .<br><span style=\"color:red\">R</span> . <span style=\"color:blue\">B</span> . . . <span style=\"color:blue\">B</span> .<br>. . . <span style=\"color:blue\">B</span> . <span style=\"color:blue\">B</span> . <span style=\"color:blue\">B</span><br><span style=\"color:blue\">B</span> . <span style=\"color:blue\">B</span> . . . <span style=\"color:blue\">B</span> .<br>"
            ]
          },
          "metadata": {}
        },
        {
          "output_type": "display_data",
          "data": {
            "text/plain": [
              "<IPython.core.display.HTML object>"
            ],
            "text/html": [
              "<p>Move 18: <span style='color:blue'>Blue</span> moves from (6, 5) to (7, 4)</p>"
            ]
          },
          "metadata": {}
        },
        {
          "output_type": "display_data",
          "data": {
            "text/plain": [
              "<IPython.core.display.HTML object>"
            ],
            "text/html": [
              ". . . . . <span style=\"color:red\">R</span> . <span style=\"color:red\">R</span><br>. . <span style=\"color:red\">R</span> . <span style=\"color:red\">R</span> . <span style=\"color:red\">R</span> .<br>. <span style=\"color:red\">R</span> . <span style=\"color:red\">R</span> . <span style=\"color:red\">R</span> . <span style=\"color:red\">R</span><br><span style=\"color:red\">R</span> . . . <span style=\"color:blue\">B</span> . <span style=\"color:red\">R</span> .<br>. <span style=\"color:blue\">B</span> . . . <span style=\"color:blue\">B</span> . <span style=\"color:blue\">B</span><br><span style=\"color:red\">R</span> . <span style=\"color:blue\">B</span> . . . . .<br>. . . <span style=\"color:blue\">B</span> . <span style=\"color:blue\">B</span> . <span style=\"color:blue\">B</span><br><span style=\"color:blue\">B</span> . <span style=\"color:blue\">B</span> . . . <span style=\"color:blue\">B</span> .<br>"
            ]
          },
          "metadata": {}
        },
        {
          "output_type": "display_data",
          "data": {
            "text/plain": [
              "<IPython.core.display.HTML object>"
            ],
            "text/html": [
              "<p>Move 19: <span style='color:red'>Red</span> moves from (1, 2) to (2, 3)</p>"
            ]
          },
          "metadata": {}
        },
        {
          "output_type": "display_data",
          "data": {
            "text/plain": [
              "<IPython.core.display.HTML object>"
            ],
            "text/html": [
              ". . . . . <span style=\"color:red\">R</span> . <span style=\"color:red\">R</span><br>. . <span style=\"color:red\">R</span> . <span style=\"color:red\">R</span> . <span style=\"color:red\">R</span> .<br>. . . <span style=\"color:red\">R</span> . <span style=\"color:red\">R</span> . <span style=\"color:red\">R</span><br><span style=\"color:red\">R</span> . <span style=\"color:red\">R</span> . <span style=\"color:blue\">B</span> . <span style=\"color:red\">R</span> .<br>. <span style=\"color:blue\">B</span> . . . <span style=\"color:blue\">B</span> . <span style=\"color:blue\">B</span><br><span style=\"color:red\">R</span> . <span style=\"color:blue\">B</span> . . . . .<br>. . . <span style=\"color:blue\">B</span> . <span style=\"color:blue\">B</span> . <span style=\"color:blue\">B</span><br><span style=\"color:blue\">B</span> . <span style=\"color:blue\">B</span> . . . <span style=\"color:blue\">B</span> .<br>"
            ]
          },
          "metadata": {}
        },
        {
          "output_type": "display_data",
          "data": {
            "text/plain": [
              "<IPython.core.display.HTML object>"
            ],
            "text/html": [
              "<p>Move 20: <span style='color:blue'>Blue</span> moves from (2, 7) to (1, 6)</p>"
            ]
          },
          "metadata": {}
        },
        {
          "output_type": "display_data",
          "data": {
            "text/plain": [
              "<IPython.core.display.HTML object>"
            ],
            "text/html": [
              ". . . . . <span style=\"color:red\">R</span> . <span style=\"color:red\">R</span><br>. . <span style=\"color:red\">R</span> . <span style=\"color:red\">R</span> . <span style=\"color:red\">R</span> .<br>. . . <span style=\"color:red\">R</span> . <span style=\"color:red\">R</span> . <span style=\"color:red\">R</span><br><span style=\"color:red\">R</span> . <span style=\"color:red\">R</span> . <span style=\"color:blue\">B</span> . <span style=\"color:red\">R</span> .<br>. <span style=\"color:blue\">B</span> . . . <span style=\"color:blue\">B</span> . <span style=\"color:blue\">B</span><br><span style=\"color:red\">R</span> . <span style=\"color:blue\">B</span> . . . . .<br>. <span style=\"color:blue\">B</span> . <span style=\"color:blue\">B</span> . <span style=\"color:blue\">B</span> . <span style=\"color:blue\">B</span><br><span style=\"color:blue\">B</span> . . . . . <span style=\"color:blue\">B</span> .<br>"
            ]
          },
          "metadata": {}
        },
        {
          "output_type": "display_data",
          "data": {
            "text/plain": [
              "<IPython.core.display.HTML object>"
            ],
            "text/html": [
              "<p>Move 21: <span style='color:red'>Red</span> moves from (0, 5) to (2, 7)</p>"
            ]
          },
          "metadata": {}
        },
        {
          "output_type": "display_data",
          "data": {
            "text/plain": [
              "<IPython.core.display.HTML object>"
            ],
            "text/html": [
              ". . . . . <span style=\"color:red\">R</span> . <span style=\"color:red\">R</span><br>. . <span style=\"color:red\">R</span> . <span style=\"color:red\">R</span> . <span style=\"color:red\">R</span> .<br>. . . <span style=\"color:red\">R</span> . <span style=\"color:red\">R</span> . <span style=\"color:red\">R</span><br><span style=\"color:red\">R</span> . <span style=\"color:red\">R</span> . <span style=\"color:blue\">B</span> . <span style=\"color:red\">R</span> .<br>. <span style=\"color:blue\">B</span> . . . <span style=\"color:blue\">B</span> . <span style=\"color:blue\">B</span><br>. . <span style=\"color:blue\">B</span> . . . . .<br>. . . <span style=\"color:blue\">B</span> . <span style=\"color:blue\">B</span> . <span style=\"color:blue\">B</span><br><span style=\"color:blue\">B</span> . <span style=\"color:red\">R</span> . . . <span style=\"color:blue\">B</span> .<br>"
            ]
          },
          "metadata": {}
        },
        {
          "output_type": "display_data",
          "data": {
            "text/plain": [
              "<IPython.core.display.HTML object>"
            ],
            "text/html": [
              "<p>Move 22: <span style='color:blue'>Blue</span> moves from (0, 7) to (1, 6)</p>"
            ]
          },
          "metadata": {}
        },
        {
          "output_type": "display_data",
          "data": {
            "text/plain": [
              "<IPython.core.display.HTML object>"
            ],
            "text/html": [
              ". . . . . <span style=\"color:red\">R</span> . <span style=\"color:red\">R</span><br>. . <span style=\"color:red\">R</span> . <span style=\"color:red\">R</span> . <span style=\"color:red\">R</span> .<br>. . . <span style=\"color:red\">R</span> . <span style=\"color:red\">R</span> . <span style=\"color:red\">R</span><br><span style=\"color:red\">R</span> . <span style=\"color:red\">R</span> . <span style=\"color:blue\">B</span> . <span style=\"color:red\">R</span> .<br>. <span style=\"color:blue\">B</span> . . . <span style=\"color:blue\">B</span> . <span style=\"color:blue\">B</span><br>. . <span style=\"color:blue\">B</span> . . . . .<br>. <span style=\"color:blue\">B</span> . <span style=\"color:blue\">B</span> . <span style=\"color:blue\">B</span> . <span style=\"color:blue\">B</span><br>. . <span style=\"color:red\">R</span> . . . <span style=\"color:blue\">B</span> .<br>"
            ]
          },
          "metadata": {}
        },
        {
          "output_type": "display_data",
          "data": {
            "text/plain": [
              "<IPython.core.display.HTML object>"
            ],
            "text/html": [
              "<p>Move 23: <span style='color:red'>Red</span> moves from (2, 3) to (3, 4)</p>"
            ]
          },
          "metadata": {}
        },
        {
          "output_type": "display_data",
          "data": {
            "text/plain": [
              "<IPython.core.display.HTML object>"
            ],
            "text/html": [
              ". . . . . <span style=\"color:red\">R</span> . <span style=\"color:red\">R</span><br>. . <span style=\"color:red\">R</span> . <span style=\"color:red\">R</span> . <span style=\"color:red\">R</span> .<br>. . . <span style=\"color:red\">R</span> . <span style=\"color:red\">R</span> . <span style=\"color:red\">R</span><br><span style=\"color:red\">R</span> . . . <span style=\"color:blue\">B</span> . <span style=\"color:red\">R</span> .<br>. <span style=\"color:blue\">B</span> . <span style=\"color:red\">R</span> . <span style=\"color:blue\">B</span> . <span style=\"color:blue\">B</span><br>. . <span style=\"color:blue\">B</span> . . . . .<br>. <span style=\"color:blue\">B</span> . <span style=\"color:blue\">B</span> . <span style=\"color:blue\">B</span> . <span style=\"color:blue\">B</span><br>. . <span style=\"color:red\">R</span> . . . <span style=\"color:blue\">B</span> .<br>"
            ]
          },
          "metadata": {}
        },
        {
          "output_type": "display_data",
          "data": {
            "text/plain": [
              "<IPython.core.display.HTML object>"
            ],
            "text/html": [
              "<p>Move 24: <span style='color:blue'>Blue</span> moves from (1, 4) to (2, 3)</p>"
            ]
          },
          "metadata": {}
        },
        {
          "output_type": "display_data",
          "data": {
            "text/plain": [
              "<IPython.core.display.HTML object>"
            ],
            "text/html": [
              ". . . . . <span style=\"color:red\">R</span> . <span style=\"color:red\">R</span><br>. . <span style=\"color:red\">R</span> . <span style=\"color:red\">R</span> . <span style=\"color:red\">R</span> .<br>. . . <span style=\"color:red\">R</span> . <span style=\"color:red\">R</span> . <span style=\"color:red\">R</span><br><span style=\"color:red\">R</span> . <span style=\"color:blue\">B</span> . <span style=\"color:blue\">B</span> . <span style=\"color:red\">R</span> .<br>. . . <span style=\"color:red\">R</span> . <span style=\"color:blue\">B</span> . <span style=\"color:blue\">B</span><br>. . <span style=\"color:blue\">B</span> . . . . .<br>. <span style=\"color:blue\">B</span> . <span style=\"color:blue\">B</span> . <span style=\"color:blue\">B</span> . <span style=\"color:blue\">B</span><br>. . <span style=\"color:red\">R</span> . . . <span style=\"color:blue\">B</span> .<br>"
            ]
          },
          "metadata": {}
        },
        {
          "output_type": "display_data",
          "data": {
            "text/plain": [
              "<IPython.core.display.HTML object>"
            ],
            "text/html": [
              "<p>Move 25: <span style='color:red'>Red</span> moves from (3, 2) to (1, 4)</p>"
            ]
          },
          "metadata": {}
        },
        {
          "output_type": "display_data",
          "data": {
            "text/plain": [
              "<IPython.core.display.HTML object>"
            ],
            "text/html": [
              ". . . . . <span style=\"color:red\">R</span> . <span style=\"color:red\">R</span><br>. . <span style=\"color:red\">R</span> . <span style=\"color:red\">R</span> . <span style=\"color:red\">R</span> .<br>. . . . . <span style=\"color:red\">R</span> . <span style=\"color:red\">R</span><br><span style=\"color:red\">R</span> . . . <span style=\"color:blue\">B</span> . <span style=\"color:red\">R</span> .<br>. <span style=\"color:red\">R</span> . <span style=\"color:red\">R</span> . <span style=\"color:blue\">B</span> . <span style=\"color:blue\">B</span><br>. . <span style=\"color:blue\">B</span> . . . . .<br>. <span style=\"color:blue\">B</span> . <span style=\"color:blue\">B</span> . <span style=\"color:blue\">B</span> . <span style=\"color:blue\">B</span><br>. . <span style=\"color:red\">R</span> . . . <span style=\"color:blue\">B</span> .<br>"
            ]
          },
          "metadata": {}
        },
        {
          "output_type": "display_data",
          "data": {
            "text/plain": [
              "<IPython.core.display.HTML object>"
            ],
            "text/html": [
              "<p>Move 26: <span style='color:blue'>Blue</span> moves from (5, 6) to (6, 5)</p>"
            ]
          },
          "metadata": {}
        },
        {
          "output_type": "display_data",
          "data": {
            "text/plain": [
              "<IPython.core.display.HTML object>"
            ],
            "text/html": [
              ". . . . . <span style=\"color:red\">R</span> . <span style=\"color:red\">R</span><br>. . <span style=\"color:red\">R</span> . <span style=\"color:red\">R</span> . <span style=\"color:red\">R</span> .<br>. . . . . <span style=\"color:red\">R</span> . <span style=\"color:red\">R</span><br><span style=\"color:red\">R</span> . . . <span style=\"color:blue\">B</span> . <span style=\"color:red\">R</span> .<br>. <span style=\"color:red\">R</span> . <span style=\"color:red\">R</span> . <span style=\"color:blue\">B</span> . <span style=\"color:blue\">B</span><br>. . <span style=\"color:blue\">B</span> . . . <span style=\"color:blue\">B</span> .<br>. <span style=\"color:blue\">B</span> . <span style=\"color:blue\">B</span> . . . <span style=\"color:blue\">B</span><br>. . <span style=\"color:red\">R</span> . . . <span style=\"color:blue\">B</span> .<br>"
            ]
          },
          "metadata": {}
        },
        {
          "output_type": "display_data",
          "data": {
            "text/plain": [
              "<IPython.core.display.HTML object>"
            ],
            "text/html": [
              "<p>Move 27: <span style='color:red'>Red</span> moves from (2, 7) to (4, 5)</p>"
            ]
          },
          "metadata": {}
        },
        {
          "output_type": "display_data",
          "data": {
            "text/plain": [
              "<IPython.core.display.HTML object>"
            ],
            "text/html": [
              ". . . . . <span style=\"color:red\">R</span> . <span style=\"color:red\">R</span><br>. . <span style=\"color:red\">R</span> . <span style=\"color:red\">R</span> . <span style=\"color:red\">R</span> .<br>. . . . . <span style=\"color:red\">R</span> . <span style=\"color:red\">R</span><br><span style=\"color:red\">R</span> . . . <span style=\"color:blue\">B</span> . <span style=\"color:red\">R</span> .<br>. <span style=\"color:red\">R</span> . <span style=\"color:red\">R</span> . <span style=\"color:blue\">B</span> . <span style=\"color:blue\">B</span><br>. . <span style=\"color:blue\">B</span> . <span style=\"color:red\">R</span> . <span style=\"color:blue\">B</span> .<br>. <span style=\"color:blue\">B</span> . . . . . <span style=\"color:blue\">B</span><br>. . . . . . <span style=\"color:blue\">B</span> .<br>"
            ]
          },
          "metadata": {}
        },
        {
          "output_type": "display_data",
          "data": {
            "text/plain": [
              "<IPython.core.display.HTML object>"
            ],
            "text/html": [
              "<p>Move 28: <span style='color:blue'>Blue</span> moves from (1, 6) to (0, 5)</p>"
            ]
          },
          "metadata": {}
        },
        {
          "output_type": "display_data",
          "data": {
            "text/plain": [
              "<IPython.core.display.HTML object>"
            ],
            "text/html": [
              ". . . . . <span style=\"color:red\">R</span> . <span style=\"color:red\">R</span><br>. . <span style=\"color:red\">R</span> . <span style=\"color:red\">R</span> . <span style=\"color:red\">R</span> .<br>. . . . . <span style=\"color:red\">R</span> . <span style=\"color:red\">R</span><br><span style=\"color:red\">R</span> . . . <span style=\"color:blue\">B</span> . <span style=\"color:red\">R</span> .<br>. <span style=\"color:red\">R</span> . <span style=\"color:red\">R</span> . <span style=\"color:blue\">B</span> . <span style=\"color:blue\">B</span><br><span style=\"color:blue\">B</span> . <span style=\"color:blue\">B</span> . <span style=\"color:red\">R</span> . <span style=\"color:blue\">B</span> .<br>. . . . . . . <span style=\"color:blue\">B</span><br>. . . . . . <span style=\"color:blue\">B</span> .<br>"
            ]
          },
          "metadata": {}
        },
        {
          "output_type": "display_data",
          "data": {
            "text/plain": [
              "<IPython.core.display.HTML object>"
            ],
            "text/html": [
              "<p>Move 29: <span style='color:red'>Red</span> moves from (1, 4) to (3, 6)</p>"
            ]
          },
          "metadata": {}
        },
        {
          "output_type": "display_data",
          "data": {
            "text/plain": [
              "<IPython.core.display.HTML object>"
            ],
            "text/html": [
              ". . . . . <span style=\"color:red\">R</span> . <span style=\"color:red\">R</span><br>. . <span style=\"color:red\">R</span> . <span style=\"color:red\">R</span> . <span style=\"color:red\">R</span> .<br>. . . . . <span style=\"color:red\">R</span> . <span style=\"color:red\">R</span><br><span style=\"color:red\">R</span> . . . <span style=\"color:blue\">B</span> . <span style=\"color:red\">R</span> .<br>. . . <span style=\"color:red\">R</span> . <span style=\"color:blue\">B</span> . <span style=\"color:blue\">B</span><br><span style=\"color:blue\">B</span> . . . <span style=\"color:red\">R</span> . <span style=\"color:blue\">B</span> .<br>. . . <span style=\"color:red\">R</span> . . . <span style=\"color:blue\">B</span><br>. . . . . . <span style=\"color:blue\">B</span> .<br>"
            ]
          },
          "metadata": {}
        },
        {
          "output_type": "display_data",
          "data": {
            "text/plain": [
              "<IPython.core.display.HTML object>"
            ],
            "text/html": [
              "<p>Move 30: <span style='color:blue'>Blue</span> moves from (0, 5) to (1, 4)</p>"
            ]
          },
          "metadata": {}
        },
        {
          "output_type": "display_data",
          "data": {
            "text/plain": [
              "<IPython.core.display.HTML object>"
            ],
            "text/html": [
              ". . . . . <span style=\"color:red\">R</span> . <span style=\"color:red\">R</span><br>. . <span style=\"color:red\">R</span> . <span style=\"color:red\">R</span> . <span style=\"color:red\">R</span> .<br>. . . . . <span style=\"color:red\">R</span> . <span style=\"color:red\">R</span><br><span style=\"color:red\">R</span> . . . <span style=\"color:blue\">B</span> . <span style=\"color:red\">R</span> .<br>. <span style=\"color:blue\">B</span> . <span style=\"color:red\">R</span> . <span style=\"color:blue\">B</span> . <span style=\"color:blue\">B</span><br>. . . . <span style=\"color:red\">R</span> . <span style=\"color:blue\">B</span> .<br>. . . <span style=\"color:red\">R</span> . . . <span style=\"color:blue\">B</span><br>. . . . . . <span style=\"color:blue\">B</span> .<br>"
            ]
          },
          "metadata": {}
        },
        {
          "output_type": "display_data",
          "data": {
            "text/plain": [
              "<IPython.core.display.HTML object>"
            ],
            "text/html": [
              "<p>Move 31: <span style='color:red'>Red</span> moves from (0, 3) to (2, 5)</p>"
            ]
          },
          "metadata": {}
        },
        {
          "output_type": "display_data",
          "data": {
            "text/plain": [
              "<IPython.core.display.HTML object>"
            ],
            "text/html": [
              ". . . . . <span style=\"color:red\">R</span> . <span style=\"color:red\">R</span><br>. . <span style=\"color:red\">R</span> . <span style=\"color:red\">R</span> . <span style=\"color:red\">R</span> .<br>. . . . . <span style=\"color:red\">R</span> . <span style=\"color:red\">R</span><br>. . . . <span style=\"color:blue\">B</span> . <span style=\"color:red\">R</span> .<br>. . . <span style=\"color:red\">R</span> . <span style=\"color:blue\">B</span> . <span style=\"color:blue\">B</span><br>. . <span style=\"color:red\">R</span> . <span style=\"color:red\">R</span> . <span style=\"color:blue\">B</span> .<br>. . . <span style=\"color:red\">R</span> . . . <span style=\"color:blue\">B</span><br>. . . . . . <span style=\"color:blue\">B</span> .<br>"
            ]
          },
          "metadata": {}
        },
        {
          "output_type": "display_data",
          "data": {
            "text/plain": [
              "<IPython.core.display.HTML object>"
            ],
            "text/html": [
              "<p>Move 32: <span style='color:blue'>Blue</span> moves from (4, 3) to (3, 2)</p>"
            ]
          },
          "metadata": {}
        },
        {
          "output_type": "display_data",
          "data": {
            "text/plain": [
              "<IPython.core.display.HTML object>"
            ],
            "text/html": [
              ". . . . . <span style=\"color:red\">R</span> . <span style=\"color:red\">R</span><br>. . <span style=\"color:red\">R</span> . <span style=\"color:red\">R</span> . <span style=\"color:red\">R</span> .<br>. . . <span style=\"color:blue\">B</span> . <span style=\"color:red\">R</span> . <span style=\"color:red\">R</span><br>. . . . . . <span style=\"color:red\">R</span> .<br>. . . <span style=\"color:red\">R</span> . <span style=\"color:blue\">B</span> . <span style=\"color:blue\">B</span><br>. . <span style=\"color:red\">R</span> . <span style=\"color:red\">R</span> . <span style=\"color:blue\">B</span> .<br>. . . <span style=\"color:red\">R</span> . . . <span style=\"color:blue\">B</span><br>. . . . . . <span style=\"color:blue\">B</span> .<br>"
            ]
          },
          "metadata": {}
        },
        {
          "output_type": "display_data",
          "data": {
            "text/plain": [
              "<IPython.core.display.HTML object>"
            ],
            "text/html": [
              "<p>Move 33: <span style='color:red'>Red</span> moves from (4, 1) to (2, 3)</p>"
            ]
          },
          "metadata": {}
        },
        {
          "output_type": "display_data",
          "data": {
            "text/plain": [
              "<IPython.core.display.HTML object>"
            ],
            "text/html": [
              ". . . . . <span style=\"color:red\">R</span> . <span style=\"color:red\">R</span><br>. . <span style=\"color:red\">R</span> . . . <span style=\"color:red\">R</span> .<br>. . . . . <span style=\"color:red\">R</span> . <span style=\"color:red\">R</span><br>. . <span style=\"color:red\">R</span> . . . <span style=\"color:red\">R</span> .<br>. . . <span style=\"color:red\">R</span> . <span style=\"color:blue\">B</span> . <span style=\"color:blue\">B</span><br>. . <span style=\"color:red\">R</span> . <span style=\"color:red\">R</span> . <span style=\"color:blue\">B</span> .<br>. . . <span style=\"color:red\">R</span> . . . <span style=\"color:blue\">B</span><br>. . . . . . <span style=\"color:blue\">B</span> .<br>"
            ]
          },
          "metadata": {}
        },
        {
          "output_type": "display_data",
          "data": {
            "text/plain": [
              "<IPython.core.display.HTML object>"
            ],
            "text/html": [
              "<p>Move 34: <span style='color:blue'>Blue</span> moves from (6, 7) to (5, 6)</p>"
            ]
          },
          "metadata": {}
        },
        {
          "output_type": "display_data",
          "data": {
            "text/plain": [
              "<IPython.core.display.HTML object>"
            ],
            "text/html": [
              ". . . . . <span style=\"color:red\">R</span> . <span style=\"color:red\">R</span><br>. . <span style=\"color:red\">R</span> . . . <span style=\"color:red\">R</span> .<br>. . . . . <span style=\"color:red\">R</span> . <span style=\"color:red\">R</span><br>. . <span style=\"color:red\">R</span> . . . <span style=\"color:red\">R</span> .<br>. . . <span style=\"color:red\">R</span> . <span style=\"color:blue\">B</span> . <span style=\"color:blue\">B</span><br>. . <span style=\"color:red\">R</span> . <span style=\"color:red\">R</span> . <span style=\"color:blue\">B</span> .<br>. . . <span style=\"color:red\">R</span> . <span style=\"color:blue\">B</span> . <span style=\"color:blue\">B</span><br>. . . . . . . .<br>"
            ]
          },
          "metadata": {}
        },
        {
          "output_type": "display_data",
          "data": {
            "text/plain": [
              "<IPython.core.display.HTML object>"
            ],
            "text/html": [
              "<p>Move 35: <span style='color:red'>Red</span> moves from (4, 5) to (6, 7)</p>"
            ]
          },
          "metadata": {}
        },
        {
          "output_type": "display_data",
          "data": {
            "text/plain": [
              "<IPython.core.display.HTML object>"
            ],
            "text/html": [
              ". . . . . <span style=\"color:red\">R</span> . <span style=\"color:red\">R</span><br>. . <span style=\"color:red\">R</span> . . . <span style=\"color:red\">R</span> .<br>. . . . . <span style=\"color:red\">R</span> . <span style=\"color:red\">R</span><br>. . <span style=\"color:red\">R</span> . . . <span style=\"color:red\">R</span> .<br>. . . <span style=\"color:red\">R</span> . <span style=\"color:blue\">B</span> . <span style=\"color:blue\">B</span><br>. . <span style=\"color:red\">R</span> . . . <span style=\"color:blue\">B</span> .<br>. . . <span style=\"color:red\">R</span> . . . <span style=\"color:blue\">B</span><br>. . . . . . <span style=\"color:red\">R</span> .<br>"
            ]
          },
          "metadata": {}
        },
        {
          "output_type": "display_data",
          "data": {
            "text/plain": [
              "<IPython.core.display.HTML object>"
            ],
            "text/html": [
              "<p>Move 36: <span style='color:blue'>Blue</span> moves from (5, 4) to (4, 3)</p>"
            ]
          },
          "metadata": {}
        },
        {
          "output_type": "display_data",
          "data": {
            "text/plain": [
              "<IPython.core.display.HTML object>"
            ],
            "text/html": [
              ". . . . . <span style=\"color:red\">R</span> . <span style=\"color:red\">R</span><br>. . <span style=\"color:red\">R</span> . . . <span style=\"color:red\">R</span> .<br>. . . . . <span style=\"color:red\">R</span> . <span style=\"color:red\">R</span><br>. . <span style=\"color:red\">R</span> . <span style=\"color:blue\">B</span> . <span style=\"color:red\">R</span> .<br>. . . <span style=\"color:red\">R</span> . . . <span style=\"color:blue\">B</span><br>. . <span style=\"color:red\">R</span> . . . <span style=\"color:blue\">B</span> .<br>. . . <span style=\"color:red\">R</span> . . . <span style=\"color:blue\">B</span><br>. . . . . . <span style=\"color:red\">R</span> .<br>"
            ]
          },
          "metadata": {}
        },
        {
          "output_type": "display_data",
          "data": {
            "text/plain": [
              "<IPython.core.display.HTML object>"
            ],
            "text/html": [
              "<p>Move 37: <span style='color:red'>Red</span> moves from (3, 6) to (4, 7)</p>"
            ]
          },
          "metadata": {}
        },
        {
          "output_type": "display_data",
          "data": {
            "text/plain": [
              "<IPython.core.display.HTML object>"
            ],
            "text/html": [
              ". . . . . <span style=\"color:red\">R</span> . <span style=\"color:red\">R</span><br>. . <span style=\"color:red\">R</span> . . . <span style=\"color:red\">R</span> .<br>. . . . . <span style=\"color:red\">R</span> . <span style=\"color:red\">R</span><br>. . <span style=\"color:red\">R</span> . <span style=\"color:blue\">B</span> . <span style=\"color:red\">R</span> .<br>. . . <span style=\"color:red\">R</span> . . . <span style=\"color:blue\">B</span><br>. . <span style=\"color:red\">R</span> . . . <span style=\"color:blue\">B</span> .<br>. . . . . . . <span style=\"color:blue\">B</span><br>. . . . <span style=\"color:red\">R</span> . <span style=\"color:red\">R</span> .<br>"
            ]
          },
          "metadata": {}
        },
        {
          "output_type": "display_data",
          "data": {
            "text/plain": [
              "<IPython.core.display.HTML object>"
            ],
            "text/html": [
              "<p>Move 38: <span style='color:blue'>Blue</span> moves from (4, 3) to (3, 2)</p>"
            ]
          },
          "metadata": {}
        },
        {
          "output_type": "display_data",
          "data": {
            "text/plain": [
              "<IPython.core.display.HTML object>"
            ],
            "text/html": [
              ". . . . . <span style=\"color:red\">R</span> . <span style=\"color:red\">R</span><br>. . <span style=\"color:red\">R</span> . . . <span style=\"color:red\">R</span> .<br>. . . <span style=\"color:blue\">B</span> . <span style=\"color:red\">R</span> . <span style=\"color:red\">R</span><br>. . <span style=\"color:red\">R</span> . . . <span style=\"color:red\">R</span> .<br>. . . <span style=\"color:red\">R</span> . . . <span style=\"color:blue\">B</span><br>. . <span style=\"color:red\">R</span> . . . <span style=\"color:blue\">B</span> .<br>. . . . . . . <span style=\"color:blue\">B</span><br>. . . . <span style=\"color:red\">R</span> . <span style=\"color:red\">R</span> .<br>"
            ]
          },
          "metadata": {}
        },
        {
          "output_type": "display_data",
          "data": {
            "text/plain": [
              "<IPython.core.display.HTML object>"
            ],
            "text/html": [
              "<p>Move 39: <span style='color:red'>Red</span> moves from (2, 1) to (4, 3)</p>"
            ]
          },
          "metadata": {}
        },
        {
          "output_type": "display_data",
          "data": {
            "text/plain": [
              "<IPython.core.display.HTML object>"
            ],
            "text/html": [
              ". . . . . <span style=\"color:red\">R</span> . <span style=\"color:red\">R</span><br>. . . . . . <span style=\"color:red\">R</span> .<br>. . . . . <span style=\"color:red\">R</span> . <span style=\"color:red\">R</span><br>. . <span style=\"color:red\">R</span> . <span style=\"color:red\">R</span> . <span style=\"color:red\">R</span> .<br>. . . <span style=\"color:red\">R</span> . . . <span style=\"color:blue\">B</span><br>. . <span style=\"color:red\">R</span> . . . <span style=\"color:blue\">B</span> .<br>. . . . . . . <span style=\"color:blue\">B</span><br>. . . . <span style=\"color:red\">R</span> . <span style=\"color:red\">R</span> .<br>"
            ]
          },
          "metadata": {}
        },
        {
          "output_type": "display_data",
          "data": {
            "text/plain": [
              "<IPython.core.display.HTML object>"
            ],
            "text/html": [
              "<p>Move 40: <span style='color:blue'>Blue</span> moves from (6, 5) to (5, 4)</p>"
            ]
          },
          "metadata": {}
        },
        {
          "output_type": "display_data",
          "data": {
            "text/plain": [
              "<IPython.core.display.HTML object>"
            ],
            "text/html": [
              ". . . . . <span style=\"color:red\">R</span> . <span style=\"color:red\">R</span><br>. . . . . . <span style=\"color:red\">R</span> .<br>. . . . . <span style=\"color:red\">R</span> . <span style=\"color:red\">R</span><br>. . <span style=\"color:red\">R</span> . <span style=\"color:red\">R</span> . <span style=\"color:red\">R</span> .<br>. . . <span style=\"color:red\">R</span> . <span style=\"color:blue\">B</span> . <span style=\"color:blue\">B</span><br>. . <span style=\"color:red\">R</span> . . . . .<br>. . . . . . . <span style=\"color:blue\">B</span><br>. . . . <span style=\"color:red\">R</span> . <span style=\"color:red\">R</span> .<br>"
            ]
          },
          "metadata": {}
        },
        {
          "output_type": "display_data",
          "data": {
            "text/plain": [
              "<IPython.core.display.HTML object>"
            ],
            "text/html": [
              "<p>Move 41: <span style='color:red'>Red</span> moves from (6, 3) to (4, 5)</p>"
            ]
          },
          "metadata": {}
        },
        {
          "output_type": "display_data",
          "data": {
            "text/plain": [
              "<IPython.core.display.HTML object>"
            ],
            "text/html": [
              ". . . . . <span style=\"color:red\">R</span> . <span style=\"color:red\">R</span><br>. . . . . . <span style=\"color:red\">R</span> .<br>. . . . . <span style=\"color:red\">R</span> . <span style=\"color:red\">R</span><br>. . <span style=\"color:red\">R</span> . <span style=\"color:red\">R</span> . . .<br>. . . <span style=\"color:red\">R</span> . . . <span style=\"color:blue\">B</span><br>. . <span style=\"color:red\">R</span> . <span style=\"color:red\">R</span> . . .<br>. . . . . . . <span style=\"color:blue\">B</span><br>. . . . <span style=\"color:red\">R</span> . <span style=\"color:red\">R</span> .<br>"
            ]
          },
          "metadata": {}
        },
        {
          "output_type": "display_data",
          "data": {
            "text/plain": [
              "<IPython.core.display.HTML object>"
            ],
            "text/html": [
              "<p>Move 42: <span style='color:blue'>Blue</span> moves from (7, 6) to (6, 5)</p>"
            ]
          },
          "metadata": {}
        },
        {
          "output_type": "display_data",
          "data": {
            "text/plain": [
              "<IPython.core.display.HTML object>"
            ],
            "text/html": [
              ". . . . . <span style=\"color:red\">R</span> . <span style=\"color:red\">R</span><br>. . . . . . <span style=\"color:red\">R</span> .<br>. . . . . <span style=\"color:red\">R</span> . <span style=\"color:red\">R</span><br>. . <span style=\"color:red\">R</span> . <span style=\"color:red\">R</span> . . .<br>. . . <span style=\"color:red\">R</span> . . . <span style=\"color:blue\">B</span><br>. . <span style=\"color:red\">R</span> . <span style=\"color:red\">R</span> . <span style=\"color:blue\">B</span> .<br>. . . . . . . .<br>. . . . <span style=\"color:red\">R</span> . <span style=\"color:red\">R</span> .<br>"
            ]
          },
          "metadata": {}
        },
        {
          "output_type": "display_data",
          "data": {
            "text/plain": [
              "<IPython.core.display.HTML object>"
            ],
            "text/html": [
              "<p>Move 43: <span style='color:red'>Red</span> moves from (7, 2) to (6, 3)</p>"
            ]
          },
          "metadata": {}
        },
        {
          "output_type": "display_data",
          "data": {
            "text/plain": [
              "<IPython.core.display.HTML object>"
            ],
            "text/html": [
              ". . . . . <span style=\"color:red\">R</span> . <span style=\"color:red\">R</span><br>. . . . . . <span style=\"color:red\">R</span> .<br>. . . . . <span style=\"color:red\">R</span> . .<br>. . <span style=\"color:red\">R</span> . <span style=\"color:red\">R</span> . <span style=\"color:red\">R</span> .<br>. . . <span style=\"color:red\">R</span> . . . <span style=\"color:blue\">B</span><br>. . <span style=\"color:red\">R</span> . <span style=\"color:red\">R</span> . <span style=\"color:blue\">B</span> .<br>. . . . . . . .<br>. . . . <span style=\"color:red\">R</span> . <span style=\"color:red\">R</span> .<br>"
            ]
          },
          "metadata": {}
        },
        {
          "output_type": "display_data",
          "data": {
            "text/plain": [
              "<IPython.core.display.HTML object>"
            ],
            "text/html": [
              "<p>Move 44: <span style='color:blue'>Blue</span> moves from (6, 5) to (5, 4)</p>"
            ]
          },
          "metadata": {}
        },
        {
          "output_type": "display_data",
          "data": {
            "text/plain": [
              "<IPython.core.display.HTML object>"
            ],
            "text/html": [
              ". . . . . <span style=\"color:red\">R</span> . <span style=\"color:red\">R</span><br>. . . . . . <span style=\"color:red\">R</span> .<br>. . . . . <span style=\"color:red\">R</span> . .<br>. . <span style=\"color:red\">R</span> . <span style=\"color:red\">R</span> . <span style=\"color:red\">R</span> .<br>. . . <span style=\"color:red\">R</span> . <span style=\"color:blue\">B</span> . <span style=\"color:blue\">B</span><br>. . <span style=\"color:red\">R</span> . <span style=\"color:red\">R</span> . . .<br>. . . . . . . .<br>. . . . <span style=\"color:red\">R</span> . <span style=\"color:red\">R</span> .<br>"
            ]
          },
          "metadata": {}
        },
        {
          "output_type": "display_data",
          "data": {
            "text/plain": [
              "<IPython.core.display.HTML object>"
            ],
            "text/html": [
              "<p>Move 45: <span style='color:red'>Red</span> moves from (6, 1) to (7, 2)</p>"
            ]
          },
          "metadata": {}
        },
        {
          "output_type": "display_data",
          "data": {
            "text/plain": [
              "<IPython.core.display.HTML object>"
            ],
            "text/html": [
              ". . . . . <span style=\"color:red\">R</span> . <span style=\"color:red\">R</span><br>. . . . . . . .<br>. . . . . <span style=\"color:red\">R</span> . <span style=\"color:red\">R</span><br>. . <span style=\"color:red\">R</span> . <span style=\"color:red\">R</span> . <span style=\"color:red\">R</span> .<br>. . . <span style=\"color:red\">R</span> . <span style=\"color:blue\">B</span> . <span style=\"color:blue\">B</span><br>. . <span style=\"color:red\">R</span> . <span style=\"color:red\">R</span> . . .<br>. . . . . . . .<br>. . . . <span style=\"color:red\">R</span> . <span style=\"color:red\">R</span> .<br>"
            ]
          },
          "metadata": {}
        },
        {
          "output_type": "display_data",
          "data": {
            "text/plain": [
              "<IPython.core.display.HTML object>"
            ],
            "text/html": [
              "<p>Move 46: <span style='color:blue'>Blue</span> moves from (5, 4) to (3, 2)</p>"
            ]
          },
          "metadata": {}
        },
        {
          "output_type": "display_data",
          "data": {
            "text/plain": [
              "<IPython.core.display.HTML object>"
            ],
            "text/html": [
              ". . . . . <span style=\"color:red\">R</span> . <span style=\"color:red\">R</span><br>. . . . . . . .<br>. . . <span style=\"color:blue\">B</span> . <span style=\"color:red\">R</span> . <span style=\"color:red\">R</span><br>. . <span style=\"color:red\">R</span> . . . <span style=\"color:red\">R</span> .<br>. . . <span style=\"color:red\">R</span> . . . <span style=\"color:blue\">B</span><br>. . <span style=\"color:red\">R</span> . <span style=\"color:red\">R</span> . . .<br>. . . . . . . .<br>. . . . <span style=\"color:red\">R</span> . <span style=\"color:red\">R</span> .<br>"
            ]
          },
          "metadata": {}
        },
        {
          "output_type": "display_data",
          "data": {
            "text/plain": [
              "<IPython.core.display.HTML object>"
            ],
            "text/html": [
              "<p>Move 47: <span style='color:red'>Red</span> moves from (5, 0) to (6, 1)</p>"
            ]
          },
          "metadata": {}
        },
        {
          "output_type": "display_data",
          "data": {
            "text/plain": [
              "<IPython.core.display.HTML object>"
            ],
            "text/html": [
              ". . . . . . . <span style=\"color:red\">R</span><br>. . . . . . <span style=\"color:red\">R</span> .<br>. . . <span style=\"color:blue\">B</span> . <span style=\"color:red\">R</span> . <span style=\"color:red\">R</span><br>. . <span style=\"color:red\">R</span> . . . <span style=\"color:red\">R</span> .<br>. . . <span style=\"color:red\">R</span> . . . <span style=\"color:blue\">B</span><br>. . <span style=\"color:red\">R</span> . <span style=\"color:red\">R</span> . . .<br>. . . . . . . .<br>. . . . <span style=\"color:red\">R</span> . <span style=\"color:red\">R</span> .<br>"
            ]
          },
          "metadata": {}
        },
        {
          "output_type": "display_data",
          "data": {
            "text/plain": [
              "<IPython.core.display.HTML object>"
            ],
            "text/html": [
              "<p>Move 48: <span style='color:blue'>Blue</span> moves from (3, 2) to (4, 1)</p>"
            ]
          },
          "metadata": {}
        },
        {
          "output_type": "display_data",
          "data": {
            "text/plain": [
              "<IPython.core.display.HTML object>"
            ],
            "text/html": [
              ". . . . . . . <span style=\"color:red\">R</span><br>. . . . <span style=\"color:blue\">B</span> . <span style=\"color:red\">R</span> .<br>. . . . . <span style=\"color:red\">R</span> . <span style=\"color:red\">R</span><br>. . <span style=\"color:red\">R</span> . . . <span style=\"color:red\">R</span> .<br>. . . <span style=\"color:red\">R</span> . . . <span style=\"color:blue\">B</span><br>. . <span style=\"color:red\">R</span> . <span style=\"color:red\">R</span> . . .<br>. . . . . . . .<br>. . . . <span style=\"color:red\">R</span> . <span style=\"color:red\">R</span> .<br>"
            ]
          },
          "metadata": {}
        },
        {
          "output_type": "display_data",
          "data": {
            "text/plain": [
              "<IPython.core.display.HTML object>"
            ],
            "text/html": [
              "<p>Move 49: <span style='color:red'>Red</span> moves from (2, 3) to (1, 4)</p>"
            ]
          },
          "metadata": {}
        },
        {
          "output_type": "display_data",
          "data": {
            "text/plain": [
              "<IPython.core.display.HTML object>"
            ],
            "text/html": [
              ". . . . . . . <span style=\"color:red\">R</span><br>. . . . <span style=\"color:blue\">B</span> . <span style=\"color:red\">R</span> .<br>. . . . . <span style=\"color:red\">R</span> . <span style=\"color:red\">R</span><br>. . . . . . <span style=\"color:red\">R</span> .<br>. <span style=\"color:red\">R</span> . <span style=\"color:red\">R</span> . . . <span style=\"color:blue\">B</span><br>. . <span style=\"color:red\">R</span> . <span style=\"color:red\">R</span> . . .<br>. . . . . . . .<br>. . . . <span style=\"color:red\">R</span> . <span style=\"color:red\">R</span> .<br>"
            ]
          },
          "metadata": {}
        },
        {
          "output_type": "display_data",
          "data": {
            "text/plain": [
              "<IPython.core.display.HTML object>"
            ],
            "text/html": [
              "<p>Move 50: <span style='color:blue'>Blue</span> moves from (4, 1) to (3, 0)</p>"
            ]
          },
          "metadata": {}
        },
        {
          "output_type": "display_data",
          "data": {
            "text/plain": [
              "<IPython.core.display.HTML object>"
            ],
            "text/html": [
              ". . . <span style=\"color:blue\">B</span> . . . <span style=\"color:red\">R</span><br>. . . . . . <span style=\"color:red\">R</span> .<br>. . . . . <span style=\"color:red\">R</span> . <span style=\"color:red\">R</span><br>. . . . . . <span style=\"color:red\">R</span> .<br>. <span style=\"color:red\">R</span> . <span style=\"color:red\">R</span> . . . <span style=\"color:blue\">B</span><br>. . <span style=\"color:red\">R</span> . <span style=\"color:red\">R</span> . . .<br>. . . . . . . .<br>. . . . <span style=\"color:red\">R</span> . <span style=\"color:red\">R</span> .<br>"
            ]
          },
          "metadata": {}
        },
        {
          "output_type": "display_data",
          "data": {
            "text/plain": [
              "<IPython.core.display.HTML object>"
            ],
            "text/html": [
              "<p>Move 51: <span style='color:red'>Red</span> moves from (1, 4) to (0, 5)</p>"
            ]
          },
          "metadata": {}
        },
        {
          "output_type": "display_data",
          "data": {
            "text/plain": [
              "<IPython.core.display.HTML object>"
            ],
            "text/html": [
              ". . . <span style=\"color:blue\">B</span> . . . <span style=\"color:red\">R</span><br>. . . . . . <span style=\"color:red\">R</span> .<br>. . . . . <span style=\"color:red\">R</span> . <span style=\"color:red\">R</span><br>. . . . . . <span style=\"color:red\">R</span> .<br>. . . <span style=\"color:red\">R</span> . . . <span style=\"color:blue\">B</span><br><span style=\"color:red\">R</span> . <span style=\"color:red\">R</span> . <span style=\"color:red\">R</span> . . .<br>. . . . . . . .<br>. . . . <span style=\"color:red\">R</span> . <span style=\"color:red\">R</span> .<br>"
            ]
          },
          "metadata": {}
        },
        {
          "output_type": "display_data",
          "data": {
            "text/plain": [
              "<IPython.core.display.HTML object>"
            ],
            "text/html": [
              "<p>Move 52: <span style='color:blue'>Blue</span> moves from (3, 0) to (2, 1)</p>"
            ]
          },
          "metadata": {}
        },
        {
          "output_type": "display_data",
          "data": {
            "text/plain": [
              "<IPython.core.display.HTML object>"
            ],
            "text/html": [
              ". . . . . . . <span style=\"color:red\">R</span><br>. . <span style=\"color:blue\">B</span> . . . <span style=\"color:red\">R</span> .<br>. . . . . <span style=\"color:red\">R</span> . <span style=\"color:red\">R</span><br>. . . . . . <span style=\"color:red\">R</span> .<br>. . . <span style=\"color:red\">R</span> . . . <span style=\"color:blue\">B</span><br><span style=\"color:red\">R</span> . <span style=\"color:red\">R</span> . <span style=\"color:red\">R</span> . . .<br>. . . . . . . .<br>. . . . <span style=\"color:red\">R</span> . <span style=\"color:red\">R</span> .<br>"
            ]
          },
          "metadata": {}
        },
        {
          "output_type": "display_data",
          "data": {
            "text/plain": [
              "<IPython.core.display.HTML object>"
            ],
            "text/html": [
              "<p>Move 53: <span style='color:red'>Red</span> moves from (0, 5) to (1, 6)</p>"
            ]
          },
          "metadata": {}
        },
        {
          "output_type": "display_data",
          "data": {
            "text/plain": [
              "<IPython.core.display.HTML object>"
            ],
            "text/html": [
              ". . . . . . . <span style=\"color:red\">R</span><br>. . <span style=\"color:blue\">B</span> . . . <span style=\"color:red\">R</span> .<br>. . . . . <span style=\"color:red\">R</span> . <span style=\"color:red\">R</span><br>. . . . . . <span style=\"color:red\">R</span> .<br>. . . <span style=\"color:red\">R</span> . . . <span style=\"color:blue\">B</span><br>. . <span style=\"color:red\">R</span> . <span style=\"color:red\">R</span> . . .<br>. <span style=\"color:red\">R</span> . . . . . .<br>. . . . <span style=\"color:red\">R</span> . <span style=\"color:red\">R</span> .<br>"
            ]
          },
          "metadata": {}
        },
        {
          "output_type": "display_data",
          "data": {
            "text/plain": [
              "<IPython.core.display.HTML object>"
            ],
            "text/html": [
              "<p>Move 54: <span style='color:blue'>Blue</span> moves from (2, 1) to (1, 2)</p>"
            ]
          },
          "metadata": {}
        },
        {
          "output_type": "display_data",
          "data": {
            "text/plain": [
              "<IPython.core.display.HTML object>"
            ],
            "text/html": [
              ". . . . . . . <span style=\"color:red\">R</span><br>. . . . . . <span style=\"color:red\">R</span> .<br>. <span style=\"color:blue\">B</span> . . . <span style=\"color:red\">R</span> . <span style=\"color:red\">R</span><br>. . . . . . <span style=\"color:red\">R</span> .<br>. . . <span style=\"color:red\">R</span> . . . <span style=\"color:blue\">B</span><br>. . <span style=\"color:red\">R</span> . <span style=\"color:red\">R</span> . . .<br>. <span style=\"color:red\">R</span> . . . . . .<br>. . . . <span style=\"color:red\">R</span> . <span style=\"color:red\">R</span> .<br>"
            ]
          },
          "metadata": {}
        },
        {
          "output_type": "display_data",
          "data": {
            "text/plain": [
              "<IPython.core.display.HTML object>"
            ],
            "text/html": [
              "<p>Move 55: <span style='color:red'>Red</span> moves from (2, 5) to (3, 6)</p>"
            ]
          },
          "metadata": {}
        },
        {
          "output_type": "display_data",
          "data": {
            "text/plain": [
              "<IPython.core.display.HTML object>"
            ],
            "text/html": [
              ". . . . . . . <span style=\"color:red\">R</span><br>. . . . . . <span style=\"color:red\">R</span> .<br>. <span style=\"color:blue\">B</span> . . . <span style=\"color:red\">R</span> . <span style=\"color:red\">R</span><br>. . . . . . <span style=\"color:red\">R</span> .<br>. . . <span style=\"color:red\">R</span> . . . <span style=\"color:blue\">B</span><br>. . . . <span style=\"color:red\">R</span> . . .<br>. <span style=\"color:red\">R</span> . <span style=\"color:red\">R</span> . . . .<br>. . . . <span style=\"color:red\">R</span> . <span style=\"color:red\">R</span> .<br>"
            ]
          },
          "metadata": {}
        },
        {
          "output_type": "display_data",
          "data": {
            "text/plain": [
              "<IPython.core.display.HTML object>"
            ],
            "text/html": [
              "<p>Move 56: <span style='color:blue'>Blue</span> moves from (1, 2) to (2, 1)</p>"
            ]
          },
          "metadata": {}
        },
        {
          "output_type": "display_data",
          "data": {
            "text/plain": [
              "<IPython.core.display.HTML object>"
            ],
            "text/html": [
              ". . . . . . . <span style=\"color:red\">R</span><br>. . <span style=\"color:blue\">B</span> . . . <span style=\"color:red\">R</span> .<br>. . . . . <span style=\"color:red\">R</span> . <span style=\"color:red\">R</span><br>. . . . . . <span style=\"color:red\">R</span> .<br>. . . <span style=\"color:red\">R</span> . . . <span style=\"color:blue\">B</span><br>. . . . <span style=\"color:red\">R</span> . . .<br>. <span style=\"color:red\">R</span> . <span style=\"color:red\">R</span> . . . .<br>. . . . <span style=\"color:red\">R</span> . <span style=\"color:red\">R</span> .<br>"
            ]
          },
          "metadata": {}
        },
        {
          "output_type": "display_data",
          "data": {
            "text/plain": [
              "<IPython.core.display.HTML object>"
            ],
            "text/html": [
              "<p>Move 57: <span style='color:red'>Red</span> moves from (3, 4) to (2, 5)</p>"
            ]
          },
          "metadata": {}
        },
        {
          "output_type": "display_data",
          "data": {
            "text/plain": [
              "<IPython.core.display.HTML object>"
            ],
            "text/html": [
              ". . . . . . . <span style=\"color:red\">R</span><br>. . <span style=\"color:blue\">B</span> . . . <span style=\"color:red\">R</span> .<br>. . . . . <span style=\"color:red\">R</span> . <span style=\"color:red\">R</span><br>. . . . . . <span style=\"color:red\">R</span> .<br>. . . . . . . <span style=\"color:blue\">B</span><br>. . <span style=\"color:red\">R</span> . <span style=\"color:red\">R</span> . . .<br>. <span style=\"color:red\">R</span> . <span style=\"color:red\">R</span> . . . .<br>. . . . <span style=\"color:red\">R</span> . <span style=\"color:red\">R</span> .<br>"
            ]
          },
          "metadata": {}
        },
        {
          "output_type": "display_data",
          "data": {
            "text/plain": [
              "<IPython.core.display.HTML object>"
            ],
            "text/html": [
              "<p>Move 58: <span style='color:blue'>Blue</span> moves from (2, 1) to (3, 2)</p>"
            ]
          },
          "metadata": {}
        },
        {
          "output_type": "display_data",
          "data": {
            "text/plain": [
              "<IPython.core.display.HTML object>"
            ],
            "text/html": [
              ". . . . . . . <span style=\"color:red\">R</span><br>. . . . . . <span style=\"color:red\">R</span> .<br>. . . <span style=\"color:blue\">B</span> . <span style=\"color:red\">R</span> . <span style=\"color:red\">R</span><br>. . . . . . <span style=\"color:red\">R</span> .<br>. . . . . . . <span style=\"color:blue\">B</span><br>. . <span style=\"color:red\">R</span> . <span style=\"color:red\">R</span> . . .<br>. <span style=\"color:red\">R</span> . <span style=\"color:red\">R</span> . . . .<br>. . . . <span style=\"color:red\">R</span> . <span style=\"color:red\">R</span> .<br>"
            ]
          },
          "metadata": {}
        },
        {
          "output_type": "display_data",
          "data": {
            "text/plain": [
              "<IPython.core.display.HTML object>"
            ],
            "text/html": [
              "<p>Move 59: <span style='color:red'>Red</span> moves from (4, 5) to (5, 6)</p>"
            ]
          },
          "metadata": {}
        },
        {
          "output_type": "display_data",
          "data": {
            "text/plain": [
              "<IPython.core.display.HTML object>"
            ],
            "text/html": [
              ". . . . . . . <span style=\"color:red\">R</span><br>. . . . . . <span style=\"color:red\">R</span> .<br>. . . <span style=\"color:blue\">B</span> . <span style=\"color:red\">R</span> . <span style=\"color:red\">R</span><br>. . . . . . <span style=\"color:red\">R</span> .<br>. . . . . . . <span style=\"color:blue\">B</span><br>. . <span style=\"color:red\">R</span> . . . . .<br>. <span style=\"color:red\">R</span> . <span style=\"color:red\">R</span> . <span style=\"color:red\">R</span> . .<br>. . . . <span style=\"color:red\">R</span> . <span style=\"color:red\">R</span> .<br>"
            ]
          },
          "metadata": {}
        },
        {
          "output_type": "display_data",
          "data": {
            "text/plain": [
              "<IPython.core.display.HTML object>"
            ],
            "text/html": [
              "<p>Move 60: <span style='color:blue'>Blue</span> moves from (3, 2) to (4, 3)</p>"
            ]
          },
          "metadata": {}
        },
        {
          "output_type": "display_data",
          "data": {
            "text/plain": [
              "<IPython.core.display.HTML object>"
            ],
            "text/html": [
              ". . . . . . . <span style=\"color:red\">R</span><br>. . . . . . <span style=\"color:red\">R</span> .<br>. . . . . <span style=\"color:red\">R</span> . <span style=\"color:red\">R</span><br>. . . . <span style=\"color:blue\">B</span> . <span style=\"color:red\">R</span> .<br>. . . . . . . <span style=\"color:blue\">B</span><br>. . <span style=\"color:red\">R</span> . . . . .<br>. <span style=\"color:red\">R</span> . <span style=\"color:red\">R</span> . <span style=\"color:red\">R</span> . .<br>. . . . <span style=\"color:red\">R</span> . <span style=\"color:red\">R</span> .<br>"
            ]
          },
          "metadata": {}
        },
        {
          "output_type": "display_data",
          "data": {
            "text/plain": [
              "<IPython.core.display.HTML object>"
            ],
            "text/html": [
              "<p>Move 61: <span style='color:red'>Red</span> moves from (5, 2) to (3, 4)</p>"
            ]
          },
          "metadata": {}
        },
        {
          "output_type": "display_data",
          "data": {
            "text/plain": [
              "<IPython.core.display.HTML object>"
            ],
            "text/html": [
              ". . . . . . . <span style=\"color:red\">R</span><br>. . . . . . <span style=\"color:red\">R</span> .<br>. . . . . . . <span style=\"color:red\">R</span><br>. . . . . . <span style=\"color:red\">R</span> .<br>. . . <span style=\"color:red\">R</span> . . . <span style=\"color:blue\">B</span><br>. . <span style=\"color:red\">R</span> . . . . .<br>. <span style=\"color:red\">R</span> . <span style=\"color:red\">R</span> . <span style=\"color:red\">R</span> . .<br>. . . . <span style=\"color:red\">R</span> . <span style=\"color:red\">R</span> .<br>"
            ]
          },
          "metadata": {}
        },
        {
          "output_type": "display_data",
          "data": {
            "text/plain": [
              "<IPython.core.display.HTML object>"
            ],
            "text/html": [
              "<p>Move 62: <span style='color:blue'>Blue</span> moves from (7, 4) to (5, 2)</p>"
            ]
          },
          "metadata": {}
        },
        {
          "output_type": "display_data",
          "data": {
            "text/plain": [
              "<IPython.core.display.HTML object>"
            ],
            "text/html": [
              ". . . . . . . <span style=\"color:red\">R</span><br>. . . . . . <span style=\"color:red\">R</span> .<br>. . . . . <span style=\"color:blue\">B</span> . <span style=\"color:red\">R</span><br>. . . . . . . .<br>. . . <span style=\"color:red\">R</span> . . . .<br>. . <span style=\"color:red\">R</span> . . . . .<br>. <span style=\"color:red\">R</span> . <span style=\"color:red\">R</span> . <span style=\"color:red\">R</span> . .<br>. . . . <span style=\"color:red\">R</span> . <span style=\"color:red\">R</span> .<br>"
            ]
          },
          "metadata": {}
        },
        {
          "output_type": "display_data",
          "data": {
            "text/plain": [
              "<IPython.core.display.HTML object>"
            ],
            "text/html": [
              "<p>Move 63: <span style='color:red'>Red</span> moves from (6, 1) to (4, 3)</p>"
            ]
          },
          "metadata": {}
        },
        {
          "output_type": "display_data",
          "data": {
            "text/plain": [
              "<IPython.core.display.HTML object>"
            ],
            "text/html": [
              ". . . . . . . <span style=\"color:red\">R</span><br>. . . . . . . .<br>. . . . . . . <span style=\"color:red\">R</span><br>. . . . <span style=\"color:red\">R</span> . . .<br>. . . <span style=\"color:red\">R</span> . . . .<br>. . <span style=\"color:red\">R</span> . . . . .<br>. <span style=\"color:red\">R</span> . <span style=\"color:red\">R</span> . <span style=\"color:red\">R</span> . .<br>. . . . <span style=\"color:red\">R</span> . <span style=\"color:red\">R</span> .<br>"
            ]
          },
          "metadata": {}
        },
        {
          "output_type": "display_data",
          "data": {
            "text/plain": [
              "<IPython.core.display.HTML object>"
            ],
            "text/html": [
              "<h3>Game Over!</h3>"
            ]
          },
          "metadata": {}
        },
        {
          "output_type": "display_data",
          "data": {
            "text/plain": [
              "<IPython.core.display.HTML object>"
            ],
            "text/html": [
              "<p>Smart AI (Red) wins!</p>"
            ]
          },
          "metadata": {}
        }
      ]
    },
    {
      "cell_type": "code",
      "source": [],
      "metadata": {
        "id": "0YZVHyJN71FX"
      },
      "execution_count": null,
      "outputs": []
    }
  ]
}